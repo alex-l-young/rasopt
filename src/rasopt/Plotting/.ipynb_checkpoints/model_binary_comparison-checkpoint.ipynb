{
 "cells": [
  {
   "cell_type": "code",
   "execution_count": 5,
   "id": "c29cc775",
   "metadata": {},
   "outputs": [],
   "source": [
    "# Compare the skill of the model forecast using the depth data at the resolution of the DEM.\n",
    "\n",
    "# Library imports.\n",
    "import matplotlib.pyplot as plt\n",
    "import numpy as np\n",
    "import os\n",
    "\n",
    "# Local imports.\n",
    "from Utilities import utils, land_cover_utils"
   ]
  },
  {
   "cell_type": "code",
   "execution_count": 6,
   "id": "d65f2302",
   "metadata": {},
   "outputs": [],
   "source": [
    "# Plan files to compare.\n",
    "gt_plan_fp = r\"C:\\Users\\ay434\\Box\\Research\\Flood_Sim_Materials\\Presentations\\EFMH_Presentation_20220316\\Secchia_Panaro.p23_Orig.hdf\"\n",
    "sim_best_plan_fp = r\"C:\\Users\\ay434\\Box\\Research\\Flood_Sim_Materials\\Presentations\\EFMH_Presentation_20220316\\Secchia_Panaro.p23_15min_Best.hdf\"\n",
    "\n",
    "# Path to the DEM file.\n",
    "dem_fname = r\"DTM_1m.tif\"\n",
    "dem_fp = os.path.join(os.path.dirname(gt_plan_fp), dem_fname)\n",
    "\n",
    "# Comparison timestep.\n",
    "timestep = 120\n",
    "\n",
    "# HDF paths.\n",
    "# Cell coordinate path.\n",
    "cell_coord_path = 'Geometry/2D Flow Areas/Secchia_Panaro/Cells Center Coordinate'\n",
    "\n",
    "# Water depths path.\n",
    "depth_path = ('Results/Unsteady/Output/Output Blocks/Base Output/Unsteady Time Series/'\n",
    "              '2D Flow Areas/Secchia_Panaro/Depth')\n",
    "\n",
    "# Manning's n calibration table path.\n",
    "cal_table_path = \"Geometry/Land Cover (Manning's n)/Calibration Table\"\n",
    "\n",
    "# Cell facepoint index path.\n",
    "cell_facepoint_idx_path = 'Geometry/2D Flow Areas/Secchia_Panaro/Cells FacePoint Indexes'\n",
    "\n",
    "# Facepoint coordinate path.\n",
    "facepoint_coord_path = 'Geometry/2D Flow Areas/Secchia_Panaro/FacePoints Coordinate'"
   ]
  },
  {
   "cell_type": "code",
   "execution_count": 7,
   "id": "5fde9374",
   "metadata": {},
   "outputs": [
    {
     "name": "stdout",
     "output_type": "stream",
     "text": [
      "C:\\Users\\ay434\\Box\\Research\\Flood_Sim_Materials\\Presentations\\EFMH_Presentation_20220316\\Secchia_Panaro.p23_Orig.hdf\n",
      "gdal_rasterize -at -l mesh_gjson -a Depth -tr 1.0 1.0 -a_nodata -999.0 -te 652093.732276195 4945405.219236948 682516.732276195 4972124.219236948 -ot Float32 -of GTiff C:\\Users\\ay434\\Documents\\rasopt\\src\\Utilities\\Geo_Files\\mesh_gjson.geojson C:\\Users\\ay434\\Documents\\rasopt\\src\\Utilities\\Geo_Files\\mesh_raster_120.tif\n",
      "(26719, 30423)\n",
      "C:\\Users\\ay434\\Box\\Research\\Flood_Sim_Materials\\Presentations\\EFMH_Presentation_20220316\\Secchia_Panaro.p23_15min_Best.hdf\n",
      "gdal_rasterize -at -l mesh_gjson -a Depth -tr 1.0 1.0 -a_nodata -999.0 -te 652093.732276195 4945405.219236948 682516.732276195 4972124.219236948 -ot Float32 -of GTiff C:\\Users\\ay434\\Documents\\rasopt\\src\\Utilities\\Geo_Files\\mesh_gjson.geojson C:\\Users\\ay434\\Documents\\rasopt\\src\\Utilities\\Geo_Files\\mesh_raster_120.tif\n",
      "(26719, 30423)\n",
      "Sensitivity 0.9973875246803596\n",
      "Type I 0.0006461345064375968\n",
      "Type II 0.004578816132843089\n"
     ]
    }
   ],
   "source": [
    "# Depth rasters at the resolution of the DEM raster.\n",
    "gt_depths, gt_depth_path = land_cover_utils.terrain_water_depth(dem_fp, gt_plan_fp, cell_facepoint_idx_path, facepoint_coord_path,\n",
    "                                        depth_path, cell_coord_path, timestep, out_fname_prefix='GT', nodata=-999.0)\n",
    "sim_depths, sim_depth_path = land_cover_utils.terrain_water_depth(dem_fp, sim_best_plan_fp, cell_facepoint_idx_path, facepoint_coord_path,\n",
    "                                        depth_path, cell_coord_path, timestep, out_fname_prefix='', nodata=-999.0)\n",
    "\n",
    "\n",
    "# Compute the sensitivity.\n",
    "sensitivity = utils.inun_sensitivity(gt_depths, sim_depths, depth_cut=0.01)\n",
    "\n",
    "# Type I and II Error.\n",
    "typeI = utils.inun_error(gt_depths, sim_depths, 1, depth_cut=0.01)\n",
    "typeII = utils.inun_error(gt_depths, sim_depths, 2, depth_cut=0.01)\n",
    "\n",
    "# Print results.\n",
    "print('Sensitivity', sensitivity)\n",
    "print('Type I', typeI)\n",
    "print('Type II', typeII)"
   ]
  },
  {
   "cell_type": "code",
   "execution_count": 8,
   "id": "2f730a93",
   "metadata": {},
   "outputs": [
    {
     "name": "stdout",
     "output_type": "stream",
     "text": [
      "566\n"
     ]
    }
   ],
   "source": [
    "# Get the total number of timesteps. \n",
    "depths = utils.extract_depths(gt_plan_fp, depth_path, cell_coord_path)\n",
    "Nt = depths.shape[1] - 2\n",
    "print(Nt)"
   ]
  },
  {
   "cell_type": "code",
   "execution_count": 23,
   "id": "226fd206",
   "metadata": {},
   "outputs": [
    {
     "name": "stdout",
     "output_type": "stream",
     "text": [
      "Processing Timestep: 120\n",
      "C:\\Users\\ay434\\Box\\Research\\Flood_Sim_Materials\\Presentations\\EFMH_Presentation_20220316\\Secchia_Panaro.p23_Orig.hdf\n",
      "gdal_rasterize -at -l mesh_gjson -a Depth -tr 1.0 1.0 -a_nodata -999.0 -te 652093.732276195 4945405.219236948 682516.732276195 4972124.219236948 -ot Float32 -of GTiff C:\\Users\\ay434\\Documents\\rasopt\\src\\Utilities\\Geo_Files\\mesh_gjson.geojson C:\\Users\\ay434\\Documents\\rasopt\\src\\Utilities\\Geo_Files\\mesh_raster_120.tif\n",
      "(26719, 30423)\n",
      "C:\\Users\\ay434\\Box\\Research\\Flood_Sim_Materials\\Presentations\\EFMH_Presentation_20220316\\Secchia_Panaro.p23_15min_Best.hdf\n",
      "gdal_rasterize -at -l mesh_gjson -a Depth -tr 1.0 1.0 -a_nodata -999.0 -te 652093.732276195 4945405.219236948 682516.732276195 4972124.219236948 -ot Float32 -of GTiff C:\\Users\\ay434\\Documents\\rasopt\\src\\Utilities\\Geo_Files\\mesh_gjson.geojson C:\\Users\\ay434\\Documents\\rasopt\\src\\Utilities\\Geo_Files\\mesh_raster_120.tif\n",
      "(26719, 30423)\n",
      "Completed Timstep: 120 \n",
      "\n",
      "Processing Timestep: 300\n",
      "C:\\Users\\ay434\\Box\\Research\\Flood_Sim_Materials\\Presentations\\EFMH_Presentation_20220316\\Secchia_Panaro.p23_Orig.hdf\n",
      "gdal_rasterize -at -l mesh_gjson -a Depth -tr 1.0 1.0 -a_nodata -999.0 -te 652093.732276195 4945405.219236948 682516.732276195 4972124.219236948 -ot Float32 -of GTiff C:\\Users\\ay434\\Documents\\rasopt\\src\\Utilities\\Geo_Files\\mesh_gjson.geojson C:\\Users\\ay434\\Documents\\rasopt\\src\\Utilities\\Geo_Files\\mesh_raster_120.tif\n",
      "(26719, 30423)\n",
      "C:\\Users\\ay434\\Box\\Research\\Flood_Sim_Materials\\Presentations\\EFMH_Presentation_20220316\\Secchia_Panaro.p23_15min_Best.hdf\n",
      "gdal_rasterize -at -l mesh_gjson -a Depth -tr 1.0 1.0 -a_nodata -999.0 -te 652093.732276195 4945405.219236948 682516.732276195 4972124.219236948 -ot Float32 -of GTiff C:\\Users\\ay434\\Documents\\rasopt\\src\\Utilities\\Geo_Files\\mesh_gjson.geojson C:\\Users\\ay434\\Documents\\rasopt\\src\\Utilities\\Geo_Files\\mesh_raster_120.tif\n",
      "(26719, 30423)\n",
      "Completed Timstep: 300 \n",
      "\n",
      "Processing Timestep: 400\n",
      "C:\\Users\\ay434\\Box\\Research\\Flood_Sim_Materials\\Presentations\\EFMH_Presentation_20220316\\Secchia_Panaro.p23_Orig.hdf\n",
      "gdal_rasterize -at -l mesh_gjson -a Depth -tr 1.0 1.0 -a_nodata -999.0 -te 652093.732276195 4945405.219236948 682516.732276195 4972124.219236948 -ot Float32 -of GTiff C:\\Users\\ay434\\Documents\\rasopt\\src\\Utilities\\Geo_Files\\mesh_gjson.geojson C:\\Users\\ay434\\Documents\\rasopt\\src\\Utilities\\Geo_Files\\mesh_raster_120.tif\n",
      "(26719, 30423)\n",
      "C:\\Users\\ay434\\Box\\Research\\Flood_Sim_Materials\\Presentations\\EFMH_Presentation_20220316\\Secchia_Panaro.p23_15min_Best.hdf\n",
      "gdal_rasterize -at -l mesh_gjson -a Depth -tr 1.0 1.0 -a_nodata -999.0 -te 652093.732276195 4945405.219236948 682516.732276195 4972124.219236948 -ot Float32 -of GTiff C:\\Users\\ay434\\Documents\\rasopt\\src\\Utilities\\Geo_Files\\mesh_gjson.geojson C:\\Users\\ay434\\Documents\\rasopt\\src\\Utilities\\Geo_Files\\mesh_raster_120.tif\n",
      "(26719, 30423)\n",
      "Completed Timstep: 400 \n",
      "\n"
     ]
    }
   ],
   "source": [
    "# Critical depth comparison.\n",
    "depth_cut = 0.1\n",
    "\n",
    "# Time to critical depth arrays.\n",
    "gt_tc = np.zeros_like(gt_depths)\n",
    "sim_tc = np.zeros_like(gt_depths)\n",
    "\n",
    "timesteps = list(range(Nt))\n",
    "for t in [120, 300, 400]:\n",
    "    print('Processing Timestep:', t)\n",
    "    # Get the depths for that timestep.\n",
    "    gt_depths, gt_depth_path = land_cover_utils.terrain_water_depth(dem_fp, gt_plan_fp, cell_facepoint_idx_path, facepoint_coord_path,\n",
    "                                        depth_path, cell_coord_path, timestep, out_fname_prefix='GT', nodata=-999.0, cleanup_rasters=True)\n",
    "    sim_depths, sim_depth_path = land_cover_utils.terrain_water_depth(dem_fp, sim_best_plan_fp, cell_facepoint_idx_path, facepoint_coord_path,\n",
    "                                            depth_path, cell_coord_path, timestep, out_fname_prefix='', nodata=-999.0, cleanup_rasters=True)\n",
    "    \n",
    "    # Cells that exceed cutoff depth.\n",
    "    gt_exceed = gt_depths > depth_cut\n",
    "    sim_exceed = sim_depths > depth_cut\n",
    "    \n",
    "    # Set gt_tc or sim_tc cells to the timestep when the first surpass the depth cut.\n",
    "    gt_tc_mask = gt_tc > 0 # Already assigned cells.\n",
    "    sim_tc_mask = sim_tc > 0 # Already assigned cells.\n",
    "    gt_tc[gt_exceed & ~gt_tc_mask] = t\n",
    "    sim_tc[sim_exceed & ~sim_tc_mask] = t\n",
    "    \n",
    "    print('Completed Timstep:', t, '\\n')"
   ]
  },
  {
   "cell_type": "code",
   "execution_count": 22,
   "id": "e87598ba",
   "metadata": {},
   "outputs": [
    {
     "name": "stdout",
     "output_type": "stream",
     "text": [
      "120.0\n"
     ]
    },
    {
     "data": {
      "text/plain": [
       "<matplotlib.colorbar.Colorbar at 0x23711cb19d0>"
      ]
     },
     "execution_count": 22,
     "metadata": {},
     "output_type": "execute_result"
    },
    {
     "data": {
      "image/png": "[encoded data removed]",
      "text/plain": [
       "<Figure size 432x288 with 1 Axes>"
      ]
     },
     "metadata": {
      "needs_background": "light"
     },
     "output_type": "display_data"
    },
    {
     "data": {
      "image/png": "[encoded data removed]",
      "text/plain": [
       "<Figure size 432x288 with 2 Axes>"
      ]
     },
     "metadata": {
      "needs_background": "light"
     },
     "output_type": "display_data"
    }
   ],
   "source": [
    "# Difference in time to critical depth.\n",
    "delta_tc = gt_tc - sim_tc\n",
    "print(np.min(gt_tc[gt_tc > 0]))\n",
    "\n",
    "fig, ax = plt.subplots()\n",
    "ax.hist(sim_tc[sim_tc > 0])\n",
    "\n",
    "fig, ax = plt.subplots()\n",
    "im = ax.imshow(gt_tc)\n",
    "plt.colorbar(im)"
   ]
  },
  {
   "cell_type": "code",
   "execution_count": null,
   "id": "e29801c5",
   "metadata": {},
   "outputs": [],
   "source": []
  },
  {
   "cell_type": "code",
   "execution_count": null,
   "id": "925dc4ee",
   "metadata": {
    "collapsed": true
   },
   "outputs": [],
   "source": []
  }
 ],
 "metadata": {
  "kernelspec": {
   "display_name": "flood_env",
   "language": "python",
   "name": "flood_env"
  },
  "language_info": {
   "codemirror_mode": {
    "name": "ipython",
    "version": 3
   },
   "file_extension": ".py",
   "mimetype": "text/x-python",
   "name": "python",
   "nbconvert_exporter": "python",
   "pygments_lexer": "ipython3",
   "version": "3.9.5"
  }
 },
 "nbformat": 4,
 "nbformat_minor": 5
}
