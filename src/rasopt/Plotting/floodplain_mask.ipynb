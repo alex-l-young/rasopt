{
 "cells": [
  {
   "cell_type": "code",
   "execution_count": 1,
   "id": "c206e92a",
   "metadata": {},
   "outputs": [],
   "source": [
    "import rasterio"
   ]
  },
  {
   "cell_type": "code",
   "execution_count": null,
   "id": "41a36d31",
   "metadata": {},
   "outputs": [],
   "source": [
    "# Raster to mask.\n"
   ]
  }
 ],
 "metadata": {
  "kernelspec": {
   "display_name": "flood_env",
   "language": "python",
   "name": "flood_env"
  },
  "language_info": {
   "codemirror_mode": {
    "name": "ipython",
    "version": 3
   },
   "file_extension": ".py",
   "mimetype": "text/x-python",
   "name": "python",
   "nbconvert_exporter": "python",
   "pygments_lexer": "ipython3",
   "version": "3.9.5"
  }
 },
 "nbformat": 4,
 "nbformat_minor": 5
}
