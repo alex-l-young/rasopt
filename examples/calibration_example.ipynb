{
 "cells": [
  {
   "cell_type": "markdown",
   "id": "18bbf9d8",
   "metadata": {},
   "source": [
    "# Calibration Notebook.\n",
    "Notebook for calling the calibration process."
   ]
  },
  {
   "cell_type": "code",
   "execution_count": 5,
   "id": "800dbd2c",
   "metadata": {},
   "outputs": [
    {
     "name": "stdout",
     "output_type": "stream",
     "text": [
      "The autoreload extension is already loaded. To reload it, use:\n",
      "  %reload_ext autoreload\n"
     ]
    }
   ],
   "source": [
    "%load_ext autoreload\n",
    "%autoreload 2"
   ]
  },
  {
   "cell_type": "code",
   "execution_count": 6,
   "id": "29b02f6d",
   "metadata": {},
   "outputs": [],
   "source": [
    "# Library imports.\n",
    "import yaml\n",
    "\n",
    "# Local imports.\n",
    "from rasopt.Optimize import run_1D2D_optimize"
   ]
  },
  {
   "cell_type": "code",
   "execution_count": 11,
   "id": "2eec3561",
   "metadata": {},
   "outputs": [],
   "source": [
    "# Load in the configuration file.\n",
    "config_fp = \"config_optimize_secchia.yml\"\n",
    "\n",
    "with open(config_fp, \"r\") as ymlfile:\n",
    "    cfg = yaml.safe_load(ymlfile)"
   ]
  },
  {
   "cell_type": "code",
   "execution_count": 12,
   "id": "fe9e8374",
   "metadata": {
    "scrolled": true
   },
   "outputs": [
    {
     "name": "stdout",
     "output_type": "stream",
     "text": [
      "  End Date/Time         = 20Jan2014 2140\n",
      "\n",
      "Simulation Date=19JAN2014,0240,20Jan2014,2140\n",
      "\n",
      "Mapping Interval=10MIN\n",
      "\n",
      "Indexing Polygons\n",
      "[====================>] 100.0%"
     ]
    },
    {
     "name": "stderr",
     "output_type": "stream",
     "text": [
      "[INFO 04-15 11:45:08] ax.service.utils.instantiation: Inferred value type of ParameterType.FLOAT for parameter campagna_n_g. If that is not the expected value type, you can explicitly specify 'value_type' ('int', 'float', 'bool' or 'str') in parameter dict.\n",
      "[INFO 04-15 11:45:08] ax.service.utils.instantiation: Inferred value type of ParameterType.FLOAT for parameter centri abitati_n_g. If that is not the expected value type, you can explicitly specify 'value_type' ('int', 'float', 'bool' or 'str') in parameter dict.\n",
      "[INFO 04-15 11:45:08] ax.service.utils.instantiation: Inferred value type of ParameterType.FLOAT for parameter canali_n_g. If that is not the expected value type, you can explicitly specify 'value_type' ('int', 'float', 'bool' or 'str') in parameter dict.\n",
      "[INFO 04-15 11:45:08] ax.service.utils.instantiation: Created search space: SearchSpace(parameters=[RangeParameter(name='campagna_n_g', parameter_type=FLOAT, range=[0.03, 0.11]), RangeParameter(name='centri abitati_n_g', parameter_type=FLOAT, range=[0.12, 0.28]), RangeParameter(name='canali_n_g', parameter_type=FLOAT, range=[0.01, 0.06])], parameter_constraints=[]).\n",
      "[INFO 04-15 11:45:08] ax.modelbridge.dispatch_utils: Using Models.BOTORCH_MODULAR since there are more ordered parameters than there are categories for the unordered categorical parameters.\n",
      "[INFO 04-15 11:45:08] ax.modelbridge.dispatch_utils: Calculating the number of remaining initialization trials based on num_initialization_trials=None max_initialization_trials=None num_tunable_parameters=3 num_trials=None use_batch_trials=False\n",
      "[INFO 04-15 11:45:08] ax.modelbridge.dispatch_utils: calculated num_initialization_trials=6\n",
      "[INFO 04-15 11:45:08] ax.modelbridge.dispatch_utils: num_completed_initialization_trials=0 num_remaining_initialization_trials=6\n",
      "[INFO 04-15 11:45:08] ax.modelbridge.dispatch_utils: `verbose`, `disable_progbar`, and `jit_compile` are not yet supported when using `choose_generation_strategy` with ModularBoTorchModel, dropping these arguments.\n",
      "[INFO 04-15 11:45:08] ax.modelbridge.dispatch_utils: Using Bayesian Optimization generation strategy: GenerationStrategy(name='Sobol+BoTorch', steps=[Sobol for 6 trials, BoTorch for subsequent trials]). Iterations after 6 will take longer to generate due to model-fitting.\n",
      "[INFO 04-15 11:45:08] ax.service.managed_loop: Started full optimization with 50 steps.\n",
      "[INFO 04-15 11:45:08] ax.service.managed_loop: Running optimization trial 1...\n"
     ]
    },
    {
     "name": "stdout",
     "output_type": "stream",
     "text": [
      "PARAMS [0.047547130584716796, 0.1385318922996521, 0.048988059759140015]\n",
      "The DType <class 'numpy._FloatAbstractDType'> could not be promoted by <class 'numpy.dtype[void]'>. This means that no common DType exists for the given inputs. For example they cannot be stored in a single array unless the dtype is `object`. The full list of DTypes is: (<class 'numpy.dtype[void]'>, <class 'numpy._FloatAbstractDType'>)\n",
      "Most likely trying to compare non-numerics. Assuming correct...\n",
      "FILE DATASET [(b'nodata',        nan) (b'campagna', 0.04754713) (b'canali', 0.04898806)\n",
      " (b'centri abitati', 0.1385319 )]\n",
      "NEW DATASET [(b'nodata',        nan) (b'campagna', 0.04754713) (b'canali', 0.04898806)\n",
      " (b'centri abitati', 0.1385319 )]\n",
      "C:\\Users\\ay434\\Documents\\Flood_Sim\\10_min_Runs\\Secchia_flood_2014_10min_Sim\\Secchia_Panaro.prj\n",
      "(True, 3, ('Starting Unsteady Computations', 'Computing', 'Computations Completed'), True)\n"
     ]
    },
    {
     "name": "stderr",
     "output_type": "stream",
     "text": [
      "[INFO 04-15 12:19:10] ax.service.managed_loop: Running optimization trial 2...\n"
     ]
    },
    {
     "name": "stdout",
     "output_type": "stream",
     "text": [
      "PARAMS [0.08295700833201408, 0.21759071081876757, 0.05425594150088727]\n",
      "The DType <class 'numpy._FloatAbstractDType'> could not be promoted by <class 'numpy.dtype[void]'>. This means that no common DType exists for the given inputs. For example they cannot be stored in a single array unless the dtype is `object`. The full list of DTypes is: (<class 'numpy.dtype[void]'>, <class 'numpy._FloatAbstractDType'>)\n",
      "Most likely trying to compare non-numerics. Assuming correct...\n",
      "FILE DATASET [(b'nodata',        nan) (b'campagna', 0.08295701) (b'canali', 0.05425594)\n",
      " (b'centri abitati', 0.2175907 )]\n",
      "NEW DATASET [(b'nodata',        nan) (b'campagna', 0.08295701) (b'canali', 0.05425594)\n",
      " (b'centri abitati', 0.2175907 )]\n",
      "C:\\Users\\ay434\\Documents\\Flood_Sim\\10_min_Runs\\Secchia_flood_2014_10min_Sim\\Secchia_Panaro.prj\n",
      "(True, 3, ('Starting Unsteady Computations', 'Computing', 'Computations Completed'), True)\n"
     ]
    },
    {
     "name": "stderr",
     "output_type": "stream",
     "text": [
      "[INFO 04-15 12:53:47] ax.service.managed_loop: Running optimization trial 3...\n"
     ]
    },
    {
     "name": "stdout",
     "output_type": "stream",
     "text": [
      "PARAMS [0.057710610479116436, 0.12654009476304054, 0.010908968877047301]\n",
      "The DType <class 'numpy._FloatAbstractDType'> could not be promoted by <class 'numpy.dtype[void]'>. This means that no common DType exists for the given inputs. For example they cannot be stored in a single array unless the dtype is `object`. The full list of DTypes is: (<class 'numpy.dtype[void]'>, <class 'numpy._FloatAbstractDType'>)\n",
      "Most likely trying to compare non-numerics. Assuming correct...\n",
      "FILE DATASET [(b'nodata',        nan) (b'campagna', 0.05771061) (b'canali', 0.01090897)\n",
      " (b'centri abitati', 0.1265401 )]\n",
      "NEW DATASET [(b'nodata',        nan) (b'campagna', 0.05771061) (b'canali', 0.01090897)\n",
      " (b'centri abitati', 0.1265401 )]\n",
      "C:\\Users\\ay434\\Documents\\Flood_Sim\\10_min_Runs\\Secchia_flood_2014_10min_Sim\\Secchia_Panaro.prj\n",
      "(True, 3, ('Starting Unsteady Computations', 'Computing', 'Computations Completed'), True)\n"
     ]
    },
    {
     "name": "stderr",
     "output_type": "stream",
     "text": [
      "[INFO 04-15 13:23:23] ax.service.managed_loop: Running optimization trial 4...\n"
     ]
    },
    {
     "name": "stdout",
     "output_type": "stream",
     "text": [
      "PARAMS [0.0824289157986641, 0.24475597351789477, 0.017465853774920104]\n",
      "The DType <class 'numpy._FloatAbstractDType'> could not be promoted by <class 'numpy.dtype[void]'>. This means that no common DType exists for the given inputs. For example they cannot be stored in a single array unless the dtype is `object`. The full list of DTypes is: (<class 'numpy.dtype[void]'>, <class 'numpy._FloatAbstractDType'>)\n",
      "Most likely trying to compare non-numerics. Assuming correct...\n",
      "FILE DATASET [(b'nodata',        nan) (b'campagna', 0.08242892) (b'canali', 0.01746585)\n",
      " (b'centri abitati', 0.24475597)]\n",
      "NEW DATASET [(b'nodata',        nan) (b'campagna', 0.08242892) (b'canali', 0.01746585)\n",
      " (b'centri abitati', 0.24475597)]\n",
      "C:\\Users\\ay434\\Documents\\Flood_Sim\\10_min_Runs\\Secchia_flood_2014_10min_Sim\\Secchia_Panaro.prj\n",
      "(True, 3, ('Starting Unsteady Computations', 'Computing', 'Computations Completed'), True)\n"
     ]
    },
    {
     "name": "stderr",
     "output_type": "stream",
     "text": [
      "[INFO 04-15 14:00:09] ax.service.managed_loop: Running optimization trial 5...\n"
     ]
    },
    {
     "name": "stdout",
     "output_type": "stream",
     "text": [
      "PARAMS [0.07022965736687184, 0.16942716479301453, 0.050888381376862524]\n",
      "The DType <class 'numpy._FloatAbstractDType'> could not be promoted by <class 'numpy.dtype[void]'>. This means that no common DType exists for the given inputs. For example they cannot be stored in a single array unless the dtype is `object`. The full list of DTypes is: (<class 'numpy.dtype[void]'>, <class 'numpy._FloatAbstractDType'>)\n",
      "Most likely trying to compare non-numerics. Assuming correct...\n",
      "FILE DATASET [(b'nodata',        nan) (b'campagna', 0.07022966) (b'canali', 0.05088838)\n",
      " (b'centri abitati', 0.16942717)]\n",
      "NEW DATASET [(b'nodata',        nan) (b'campagna', 0.07022966) (b'canali', 0.05088838)\n",
      " (b'centri abitati', 0.16942717)]\n",
      "C:\\Users\\ay434\\Documents\\Flood_Sim\\10_min_Runs\\Secchia_flood_2014_10min_Sim\\Secchia_Panaro.prj\n",
      "(True, 3, ('Starting Unsteady Computations', 'Computing', 'Computations Completed'), True)\n"
     ]
    },
    {
     "name": "stderr",
     "output_type": "stream",
     "text": [
      "[INFO 04-15 14:35:44] ax.service.managed_loop: Running optimization trial 6...\n"
     ]
    },
    {
     "name": "stdout",
     "output_type": "stream",
     "text": [
      "PARAMS [0.04930328771471977, 0.25861311420798305, 0.05404510017484426]\n",
      "The DType <class 'numpy._FloatAbstractDType'> could not be promoted by <class 'numpy.dtype[void]'>. This means that no common DType exists for the given inputs. For example they cannot be stored in a single array unless the dtype is `object`. The full list of DTypes is: (<class 'numpy.dtype[void]'>, <class 'numpy._FloatAbstractDType'>)\n",
      "Most likely trying to compare non-numerics. Assuming correct...\n",
      "FILE DATASET [(b'nodata',        nan) (b'campagna', 0.04930329) (b'canali', 0.0540451 )\n",
      " (b'centri abitati', 0.2586131 )]\n",
      "NEW DATASET [(b'nodata',        nan) (b'campagna', 0.04930329) (b'canali', 0.0540451 )\n",
      " (b'centri abitati', 0.2586131 )]\n",
      "C:\\Users\\ay434\\Documents\\Flood_Sim\\10_min_Runs\\Secchia_flood_2014_10min_Sim\\Secchia_Panaro.prj\n",
      "(True, 3, ('Starting Unsteady Computations', 'Computing', 'Computations Completed'), True)\n"
     ]
    },
    {
     "name": "stderr",
     "output_type": "stream",
     "text": [
      "[INFO 04-15 15:08:14] ax.service.managed_loop: Running optimization trial 7...\n"
     ]
    },
    {
     "name": "stdout",
     "output_type": "stream",
     "text": [
      "PARAMS [0.0592188656848739, 0.12, 0.03087861381910699]\n",
      "The DType <class 'numpy._FloatAbstractDType'> could not be promoted by <class 'numpy.dtype[void]'>. This means that no common DType exists for the given inputs. For example they cannot be stored in a single array unless the dtype is `object`. The full list of DTypes is: (<class 'numpy.dtype[void]'>, <class 'numpy._FloatAbstractDType'>)\n",
      "Most likely trying to compare non-numerics. Assuming correct...\n",
      "FILE DATASET [(b'nodata',        nan) (b'campagna', 0.05921886) (b'canali', 0.03087861)\n",
      " (b'centri abitati', 0.12      )]\n",
      "NEW DATASET [(b'nodata',        nan) (b'campagna', 0.05921886) (b'canali', 0.03087861)\n",
      " (b'centri abitati', 0.12      )]\n",
      "C:\\Users\\ay434\\Documents\\Flood_Sim\\10_min_Runs\\Secchia_flood_2014_10min_Sim\\Secchia_Panaro.prj\n",
      "(True, 3, ('Starting Unsteady Computations', 'Computing', 'Computations Completed'), True)\n"
     ]
    },
    {
     "name": "stderr",
     "output_type": "stream",
     "text": [
      "[INFO 04-15 15:36:56] ax.service.managed_loop: Running optimization trial 8...\n"
     ]
    },
    {
     "name": "stdout",
     "output_type": "stream",
     "text": [
      "PARAMS [0.0420189407539672, 0.12, 0.019181905989457758]\n",
      "The DType <class 'numpy._FloatAbstractDType'> could not be promoted by <class 'numpy.dtype[void]'>. This means that no common DType exists for the given inputs. For example they cannot be stored in a single array unless the dtype is `object`. The full list of DTypes is: (<class 'numpy.dtype[void]'>, <class 'numpy._FloatAbstractDType'>)\n",
      "Most likely trying to compare non-numerics. Assuming correct...\n",
      "FILE DATASET [(b'nodata',        nan) (b'campagna', 0.04201894) (b'canali', 0.01918191)\n",
      " (b'centri abitati', 0.12      )]\n",
      "NEW DATASET [(b'nodata',        nan) (b'campagna', 0.04201894) (b'canali', 0.01918191)\n",
      " (b'centri abitati', 0.12      )]\n",
      "C:\\Users\\ay434\\Documents\\Flood_Sim\\10_min_Runs\\Secchia_flood_2014_10min_Sim\\Secchia_Panaro.prj\n",
      "(True, 3, ('Starting Unsteady Computations', 'Computing', 'Computations Completed'), True)\n"
     ]
    },
    {
     "name": "stderr",
     "output_type": "stream",
     "text": [
      "[INFO 04-15 16:10:56] ax.service.managed_loop: Running optimization trial 9...\n"
     ]
    },
    {
     "name": "stdout",
     "output_type": "stream",
     "text": [
      "PARAMS [0.056177561252608706, 0.15539427176250062, 0.02776059270039976]\n",
      "The DType <class 'numpy._FloatAbstractDType'> could not be promoted by <class 'numpy.dtype[void]'>. This means that no common DType exists for the given inputs. For example they cannot be stored in a single array unless the dtype is `object`. The full list of DTypes is: (<class 'numpy.dtype[void]'>, <class 'numpy._FloatAbstractDType'>)\n",
      "Most likely trying to compare non-numerics. Assuming correct...\n",
      "FILE DATASET [(b'nodata',        nan) (b'campagna', 0.05617756) (b'canali', 0.02776059)\n",
      " (b'centri abitati', 0.15539427)]\n",
      "NEW DATASET [(b'nodata',        nan) (b'campagna', 0.05617756) (b'canali', 0.02776059)\n",
      " (b'centri abitati', 0.15539427)]\n",
      "C:\\Users\\ay434\\Documents\\Flood_Sim\\10_min_Runs\\Secchia_flood_2014_10min_Sim\\Secchia_Panaro.prj\n",
      "(True, 3, ('Starting Unsteady Computations', 'Computing', 'Computations Completed'), True)\n"
     ]
    },
    {
     "name": "stderr",
     "output_type": "stream",
     "text": [
      "[INFO 04-15 16:43:23] ax.service.managed_loop: Running optimization trial 10...\n"
     ]
    },
    {
     "name": "stdout",
     "output_type": "stream",
     "text": [
      "PARAMS [0.053075226706699175, 0.1951721374255179, 0.028533718491430278]\n",
      "The DType <class 'numpy._FloatAbstractDType'> could not be promoted by <class 'numpy.dtype[void]'>. This means that no common DType exists for the given inputs. For example they cannot be stored in a single array unless the dtype is `object`. The full list of DTypes is: (<class 'numpy.dtype[void]'>, <class 'numpy._FloatAbstractDType'>)\n",
      "Most likely trying to compare non-numerics. Assuming correct...\n",
      "FILE DATASET [(b'nodata',        nan) (b'campagna', 0.05307523) (b'canali', 0.02853372)\n",
      " (b'centri abitati', 0.19517213)]\n",
      "NEW DATASET [(b'nodata',        nan) (b'campagna', 0.05307523) (b'canali', 0.02853372)\n",
      " (b'centri abitati', 0.19517213)]\n",
      "C:\\Users\\ay434\\Documents\\Flood_Sim\\10_min_Runs\\Secchia_flood_2014_10min_Sim\\Secchia_Panaro.prj\n",
      "(True, 3, ('Starting Unsteady Computations', 'Computing', 'Computations Completed'), True)\n"
     ]
    },
    {
     "name": "stderr",
     "output_type": "stream",
     "text": [
      "[INFO 04-15 17:21:03] ax.service.managed_loop: Running optimization trial 11...\n"
     ]
    },
    {
     "name": "stdout",
     "output_type": "stream",
     "text": [
      "PARAMS [0.056301488962793855, 0.1781412174955078, 0.03990186649054329]\n",
      "The DType <class 'numpy._FloatAbstractDType'> could not be promoted by <class 'numpy.dtype[void]'>. This means that no common DType exists for the given inputs. For example they cannot be stored in a single array unless the dtype is `object`. The full list of DTypes is: (<class 'numpy.dtype[void]'>, <class 'numpy._FloatAbstractDType'>)\n",
      "Most likely trying to compare non-numerics. Assuming correct...\n",
      "FILE DATASET [(b'nodata',        nan) (b'campagna', 0.05630149) (b'canali', 0.03990187)\n",
      " (b'centri abitati', 0.17814122)]\n",
      "NEW DATASET [(b'nodata',        nan) (b'campagna', 0.05630149) (b'canali', 0.03990187)\n",
      " (b'centri abitati', 0.17814122)]\n",
      "C:\\Users\\ay434\\Documents\\Flood_Sim\\10_min_Runs\\Secchia_flood_2014_10min_Sim\\Secchia_Panaro.prj\n",
      "(True, 3, ('Starting Unsteady Computations', 'Computing', 'Computations Completed'), True)\n"
     ]
    },
    {
     "name": "stderr",
     "output_type": "stream",
     "text": [
      "[INFO 04-15 17:53:19] ax.service.managed_loop: Running optimization trial 12...\n"
     ]
    },
    {
     "name": "stdout",
     "output_type": "stream",
     "text": [
      "PARAMS [0.05820579717470235, 0.18228512385619447, 0.026934251300549397]\n",
      "The DType <class 'numpy._FloatAbstractDType'> could not be promoted by <class 'numpy.dtype[void]'>. This means that no common DType exists for the given inputs. For example they cannot be stored in a single array unless the dtype is `object`. The full list of DTypes is: (<class 'numpy.dtype[void]'>, <class 'numpy._FloatAbstractDType'>)\n",
      "Most likely trying to compare non-numerics. Assuming correct...\n",
      "FILE DATASET [(b'nodata',        nan) (b'campagna', 0.0582058 ) (b'canali', 0.02693425)\n",
      " (b'centri abitati', 0.18228513)]\n",
      "NEW DATASET [(b'nodata',        nan) (b'campagna', 0.0582058 ) (b'canali', 0.02693425)\n",
      " (b'centri abitati', 0.18228513)]\n",
      "C:\\Users\\ay434\\Documents\\Flood_Sim\\10_min_Runs\\Secchia_flood_2014_10min_Sim\\Secchia_Panaro.prj\n",
      "(True, 3, ('Starting Unsteady Computations', 'Computing', 'Computations Completed'), True)\n"
     ]
    },
    {
     "name": "stderr",
     "output_type": "stream",
     "text": [
      "[INFO 04-15 18:33:36] ax.service.managed_loop: Running optimization trial 13...\n"
     ]
    },
    {
     "name": "stdout",
     "output_type": "stream",
     "text": [
      "PARAMS [0.05616133686439069, 0.17188561274465045, 0.032045770050142995]\n",
      "The DType <class 'numpy._FloatAbstractDType'> could not be promoted by <class 'numpy.dtype[void]'>. This means that no common DType exists for the given inputs. For example they cannot be stored in a single array unless the dtype is `object`. The full list of DTypes is: (<class 'numpy.dtype[void]'>, <class 'numpy._FloatAbstractDType'>)\n",
      "Most likely trying to compare non-numerics. Assuming correct...\n",
      "FILE DATASET [(b'nodata',        nan) (b'campagna', 0.05616134) (b'canali', 0.03204577)\n",
      " (b'centri abitati', 0.17188561)]\n",
      "NEW DATASET [(b'nodata',        nan) (b'campagna', 0.05616134) (b'canali', 0.03204577)\n",
      " (b'centri abitati', 0.17188561)]\n",
      "C:\\Users\\ay434\\Documents\\Flood_Sim\\10_min_Runs\\Secchia_flood_2014_10min_Sim\\Secchia_Panaro.prj\n",
      "(True, 3, ('Starting Unsteady Computations', 'Computing', 'Computations Completed'), True)\n"
     ]
    },
    {
     "name": "stderr",
     "output_type": "stream",
     "text": [
      "[INFO 04-15 19:13:57] ax.service.managed_loop: Running optimization trial 14...\n"
     ]
    },
    {
     "name": "stdout",
     "output_type": "stream",
     "text": [
      "PARAMS [0.05738456723323082, 0.1650489670024146, 0.034152565427043785]\n",
      "The DType <class 'numpy._FloatAbstractDType'> could not be promoted by <class 'numpy.dtype[void]'>. This means that no common DType exists for the given inputs. For example they cannot be stored in a single array unless the dtype is `object`. The full list of DTypes is: (<class 'numpy.dtype[void]'>, <class 'numpy._FloatAbstractDType'>)\n",
      "Most likely trying to compare non-numerics. Assuming correct...\n",
      "FILE DATASET [(b'nodata',        nan) (b'campagna', 0.05738457) (b'canali', 0.03415256)\n",
      " (b'centri abitati', 0.16504897)]\n",
      "NEW DATASET [(b'nodata',        nan) (b'campagna', 0.05738457) (b'canali', 0.03415256)\n",
      " (b'centri abitati', 0.16504897)]\n",
      "C:\\Users\\ay434\\Documents\\Flood_Sim\\10_min_Runs\\Secchia_flood_2014_10min_Sim\\Secchia_Panaro.prj\n",
      "(True, 3, ('Starting Unsteady Computations', 'Computing', 'Computations Completed'), True)\n"
     ]
    },
    {
     "name": "stderr",
     "output_type": "stream",
     "text": [
      "[INFO 04-15 19:54:09] ax.service.managed_loop: Running optimization trial 15...\n"
     ]
    },
    {
     "name": "stdout",
     "output_type": "stream",
     "text": [
      "PARAMS [0.03, 0.28, 0.01]\n",
      "The DType <class 'numpy._FloatAbstractDType'> could not be promoted by <class 'numpy.dtype[void]'>. This means that no common DType exists for the given inputs. For example they cannot be stored in a single array unless the dtype is `object`. The full list of DTypes is: (<class 'numpy.dtype[void]'>, <class 'numpy._FloatAbstractDType'>)\n",
      "Most likely trying to compare non-numerics. Assuming correct...\n",
      "FILE DATASET [(b'nodata',  nan) (b'campagna', 0.03) (b'canali', 0.01)\n",
      " (b'centri abitati', 0.28)]\n",
      "NEW DATASET [(b'nodata',  nan) (b'campagna', 0.03) (b'canali', 0.01)\n",
      " (b'centri abitati', 0.28)]\n",
      "C:\\Users\\ay434\\Documents\\Flood_Sim\\10_min_Runs\\Secchia_flood_2014_10min_Sim\\Secchia_Panaro.prj\n",
      "(True, 3, ('Starting Unsteady Computations', 'Computing', 'Computations Completed'), True)\n"
     ]
    },
    {
     "name": "stderr",
     "output_type": "stream",
     "text": [
      "[INFO 04-15 20:25:15] ax.service.managed_loop: Running optimization trial 16...\n"
     ]
    },
    {
     "name": "stdout",
     "output_type": "stream",
     "text": [
      "PARAMS [0.05801256458914274, 0.12996273960718285, 0.06]\n",
      "The DType <class 'numpy._FloatAbstractDType'> could not be promoted by <class 'numpy.dtype[void]'>. This means that no common DType exists for the given inputs. For example they cannot be stored in a single array unless the dtype is `object`. The full list of DTypes is: (<class 'numpy.dtype[void]'>, <class 'numpy._FloatAbstractDType'>)\n",
      "Most likely trying to compare non-numerics. Assuming correct...\n",
      "FILE DATASET [(b'nodata',        nan) (b'campagna', 0.05801256) (b'canali', 0.06      )\n",
      " (b'centri abitati', 0.12996274)]\n",
      "NEW DATASET [(b'nodata',        nan) (b'campagna', 0.05801256) (b'canali', 0.06      )\n",
      " (b'centri abitati', 0.12996274)]\n",
      "C:\\Users\\ay434\\Documents\\Flood_Sim\\10_min_Runs\\Secchia_flood_2014_10min_Sim\\Secchia_Panaro.prj\n",
      "(True, 3, ('Starting Unsteady Computations', 'Computing', 'Computations Completed'), True)\n"
     ]
    },
    {
     "name": "stderr",
     "output_type": "stream",
     "text": [
      "[INFO 04-15 20:54:55] ax.service.managed_loop: Running optimization trial 17...\n"
     ]
    },
    {
     "name": "stdout",
     "output_type": "stream",
     "text": [
      "PARAMS [0.05548039683552927, 0.16530851949006167, 0.03500965454120471]\n",
      "The DType <class 'numpy._FloatAbstractDType'> could not be promoted by <class 'numpy.dtype[void]'>. This means that no common DType exists for the given inputs. For example they cannot be stored in a single array unless the dtype is `object`. The full list of DTypes is: (<class 'numpy.dtype[void]'>, <class 'numpy._FloatAbstractDType'>)\n",
      "Most likely trying to compare non-numerics. Assuming correct...\n",
      "FILE DATASET [(b'nodata',        nan) (b'campagna', 0.0554804 ) (b'canali', 0.03500966)\n",
      " (b'centri abitati', 0.16530852)]\n",
      "NEW DATASET [(b'nodata',        nan) (b'campagna', 0.0554804 ) (b'canali', 0.03500966)\n",
      " (b'centri abitati', 0.16530852)]\n",
      "C:\\Users\\ay434\\Documents\\Flood_Sim\\10_min_Runs\\Secchia_flood_2014_10min_Sim\\Secchia_Panaro.prj\n",
      "(True, 3, ('Starting Unsteady Computations', 'Computing', 'Computations Completed'), True)\n"
     ]
    },
    {
     "name": "stderr",
     "output_type": "stream",
     "text": [
      "[INFO 04-15 21:27:28] ax.service.managed_loop: Running optimization trial 18...\n"
     ]
    },
    {
     "name": "stdout",
     "output_type": "stream",
     "text": [
      "PARAMS [0.056170697494919555, 0.28, 0.01]\n",
      "The DType <class 'numpy._FloatAbstractDType'> could not be promoted by <class 'numpy.dtype[void]'>. This means that no common DType exists for the given inputs. For example they cannot be stored in a single array unless the dtype is `object`. The full list of DTypes is: (<class 'numpy.dtype[void]'>, <class 'numpy._FloatAbstractDType'>)\n",
      "Most likely trying to compare non-numerics. Assuming correct...\n",
      "FILE DATASET [(b'nodata',       nan) (b'campagna', 0.0561707) (b'canali', 0.01     )\n",
      " (b'centri abitati', 0.28     )]\n",
      "NEW DATASET [(b'nodata',       nan) (b'campagna', 0.0561707) (b'canali', 0.01     )\n",
      " (b'centri abitati', 0.28     )]\n",
      "C:\\Users\\ay434\\Documents\\Flood_Sim\\10_min_Runs\\Secchia_flood_2014_10min_Sim\\Secchia_Panaro.prj\n",
      "(True, 3, ('Starting Unsteady Computations', 'Computing', 'Computations Completed'), True)\n"
     ]
    },
    {
     "name": "stderr",
     "output_type": "stream",
     "text": [
      "[INFO 04-15 21:53:03] ax.service.managed_loop: Running optimization trial 19...\n"
     ]
    },
    {
     "name": "stdout",
     "output_type": "stream",
     "text": [
      "PARAMS [0.05562265687694776, 0.17244129523162086, 0.030585912708350156]\n",
      "The DType <class 'numpy._FloatAbstractDType'> could not be promoted by <class 'numpy.dtype[void]'>. This means that no common DType exists for the given inputs. For example they cannot be stored in a single array unless the dtype is `object`. The full list of DTypes is: (<class 'numpy.dtype[void]'>, <class 'numpy._FloatAbstractDType'>)\n",
      "Most likely trying to compare non-numerics. Assuming correct...\n",
      "FILE DATASET [(b'nodata',        nan) (b'campagna', 0.05562266) (b'canali', 0.03058591)\n",
      " (b'centri abitati', 0.17244129)]\n",
      "NEW DATASET [(b'nodata',        nan) (b'campagna', 0.05562266) (b'canali', 0.03058591)\n",
      " (b'centri abitati', 0.17244129)]\n",
      "C:\\Users\\ay434\\Documents\\Flood_Sim\\10_min_Runs\\Secchia_flood_2014_10min_Sim\\Secchia_Panaro.prj\n",
      "(True, 3, ('Starting Unsteady Computations', 'Computing', 'Computations Completed'), True)\n"
     ]
    },
    {
     "name": "stderr",
     "output_type": "stream",
     "text": [
      "[INFO 04-15 22:33:08] ax.service.managed_loop: Running optimization trial 20...\n"
     ]
    },
    {
     "name": "stdout",
     "output_type": "stream",
     "text": [
      "PARAMS [0.055627840470031845, 0.17140307465825627, 0.03284537115774537]\n",
      "The DType <class 'numpy._FloatAbstractDType'> could not be promoted by <class 'numpy.dtype[void]'>. This means that no common DType exists for the given inputs. For example they cannot be stored in a single array unless the dtype is `object`. The full list of DTypes is: (<class 'numpy.dtype[void]'>, <class 'numpy._FloatAbstractDType'>)\n",
      "Most likely trying to compare non-numerics. Assuming correct...\n",
      "FILE DATASET [(b'nodata',        nan) (b'campagna', 0.05562784) (b'canali', 0.03284537)\n",
      " (b'centri abitati', 0.17140308)]\n",
      "NEW DATASET [(b'nodata',        nan) (b'campagna', 0.05562784) (b'canali', 0.03284537)\n",
      " (b'centri abitati', 0.17140308)]\n",
      "C:\\Users\\ay434\\Documents\\Flood_Sim\\10_min_Runs\\Secchia_flood_2014_10min_Sim\\Secchia_Panaro.prj\n",
      "(True, 3, ('Starting Unsteady Computations', 'Computing', 'Computations Completed'), True)\n"
     ]
    },
    {
     "name": "stderr",
     "output_type": "stream",
     "text": [
      "[INFO 04-15 23:05:22] ax.service.managed_loop: Running optimization trial 21...\n"
     ]
    },
    {
     "name": "stdout",
     "output_type": "stream",
     "text": [
      "PARAMS [0.05498758596435998, 0.18038817000716273, 0.012354558172551577]\n",
      "The DType <class 'numpy._FloatAbstractDType'> could not be promoted by <class 'numpy.dtype[void]'>. This means that no common DType exists for the given inputs. For example they cannot be stored in a single array unless the dtype is `object`. The full list of DTypes is: (<class 'numpy.dtype[void]'>, <class 'numpy._FloatAbstractDType'>)\n",
      "Most likely trying to compare non-numerics. Assuming correct...\n",
      "FILE DATASET [(b'nodata',        nan) (b'campagna', 0.05498759) (b'canali', 0.01235456)\n",
      " (b'centri abitati', 0.18038817)]\n",
      "NEW DATASET [(b'nodata',        nan) (b'campagna', 0.05498759) (b'canali', 0.01235456)\n",
      " (b'centri abitati', 0.18038817)]\n",
      "C:\\Users\\ay434\\Documents\\Flood_Sim\\10_min_Runs\\Secchia_flood_2014_10min_Sim\\Secchia_Panaro.prj\n",
      "(True, 3, ('Starting Unsteady Computations', 'Computing', 'Computations Completed'), True)\n"
     ]
    },
    {
     "name": "stderr",
     "output_type": "stream",
     "text": [
      "[INFO 04-15 23:44:22] ax.service.managed_loop: Running optimization trial 22...\n"
     ]
    },
    {
     "name": "stdout",
     "output_type": "stream",
     "text": [
      "PARAMS [0.05612387024049478, 0.17091039136782402, 0.030382667005210987]\n",
      "The DType <class 'numpy._FloatAbstractDType'> could not be promoted by <class 'numpy.dtype[void]'>. This means that no common DType exists for the given inputs. For example they cannot be stored in a single array unless the dtype is `object`. The full list of DTypes is: (<class 'numpy.dtype[void]'>, <class 'numpy._FloatAbstractDType'>)\n",
      "Most likely trying to compare non-numerics. Assuming correct...\n",
      "FILE DATASET [(b'nodata',        nan) (b'campagna', 0.05612387) (b'canali', 0.03038267)\n",
      " (b'centri abitati', 0.17091039)]\n",
      "NEW DATASET [(b'nodata',        nan) (b'campagna', 0.05612387) (b'canali', 0.03038267)\n",
      " (b'centri abitati', 0.17091039)]\n",
      "C:\\Users\\ay434\\Documents\\Flood_Sim\\10_min_Runs\\Secchia_flood_2014_10min_Sim\\Secchia_Panaro.prj\n",
      "(True, 3, ('Starting Unsteady Computations', 'Computing', 'Computations Completed'), True)\n"
     ]
    },
    {
     "name": "stderr",
     "output_type": "stream",
     "text": [
      "[INFO 04-16 00:16:44] ax.service.managed_loop: Running optimization trial 23...\n"
     ]
    },
    {
     "name": "stdout",
     "output_type": "stream",
     "text": [
      "PARAMS [0.05590278754352007, 0.1758137468249923, 0.03078651055523346]\n",
      "The DType <class 'numpy._FloatAbstractDType'> could not be promoted by <class 'numpy.dtype[void]'>. This means that no common DType exists for the given inputs. For example they cannot be stored in a single array unless the dtype is `object`. The full list of DTypes is: (<class 'numpy.dtype[void]'>, <class 'numpy._FloatAbstractDType'>)\n",
      "Most likely trying to compare non-numerics. Assuming correct...\n",
      "FILE DATASET [(b'nodata',        nan) (b'campagna', 0.05590279) (b'canali', 0.03078651)\n",
      " (b'centri abitati', 0.17581375)]\n",
      "NEW DATASET [(b'nodata',        nan) (b'campagna', 0.05590279) (b'canali', 0.03078651)\n",
      " (b'centri abitati', 0.17581375)]\n",
      "C:\\Users\\ay434\\Documents\\Flood_Sim\\10_min_Runs\\Secchia_flood_2014_10min_Sim\\Secchia_Panaro.prj\n",
      "(True, 3, ('Starting Unsteady Computations', 'Computing', 'Computations Completed'), True)\n"
     ]
    },
    {
     "name": "stderr",
     "output_type": "stream",
     "text": [
      "[INFO 04-16 00:48:55] ax.service.managed_loop: Running optimization trial 24...\n"
     ]
    },
    {
     "name": "stdout",
     "output_type": "stream",
     "text": [
      "PARAMS [0.05501320614622161, 0.17051893174189253, 0.03052843542811346]\n",
      "The DType <class 'numpy._FloatAbstractDType'> could not be promoted by <class 'numpy.dtype[void]'>. This means that no common DType exists for the given inputs. For example they cannot be stored in a single array unless the dtype is `object`. The full list of DTypes is: (<class 'numpy.dtype[void]'>, <class 'numpy._FloatAbstractDType'>)\n",
      "Most likely trying to compare non-numerics. Assuming correct...\n",
      "FILE DATASET [(b'nodata',        nan) (b'campagna', 0.05501321) (b'canali', 0.03052844)\n",
      " (b'centri abitati', 0.17051893)]\n",
      "NEW DATASET [(b'nodata',        nan) (b'campagna', 0.05501321) (b'canali', 0.03052844)\n",
      " (b'centri abitati', 0.17051893)]\n",
      "C:\\Users\\ay434\\Documents\\Flood_Sim\\10_min_Runs\\Secchia_flood_2014_10min_Sim\\Secchia_Panaro.prj\n",
      "(True, 3, ('Starting Unsteady Computations', 'Computing', 'Computations Completed'), True)\n"
     ]
    },
    {
     "name": "stderr",
     "output_type": "stream",
     "text": [
      "[INFO 04-16 01:29:08] ax.service.managed_loop: Running optimization trial 25...\n"
     ]
    },
    {
     "name": "stdout",
     "output_type": "stream",
     "text": [
      "PARAMS [0.05609761084900457, 0.16907774397696457, 0.03289581892177794]\n",
      "The DType <class 'numpy._FloatAbstractDType'> could not be promoted by <class 'numpy.dtype[void]'>. This means that no common DType exists for the given inputs. For example they cannot be stored in a single array unless the dtype is `object`. The full list of DTypes is: (<class 'numpy.dtype[void]'>, <class 'numpy._FloatAbstractDType'>)\n",
      "Most likely trying to compare non-numerics. Assuming correct...\n",
      "FILE DATASET [(b'nodata',        nan) (b'campagna', 0.05609761) (b'canali', 0.03289582)\n",
      " (b'centri abitati', 0.16907774)]\n",
      "NEW DATASET [(b'nodata',        nan) (b'campagna', 0.05609761) (b'canali', 0.03289582)\n",
      " (b'centri abitati', 0.16907774)]\n",
      "C:\\Users\\ay434\\Documents\\Flood_Sim\\10_min_Runs\\Secchia_flood_2014_10min_Sim\\Secchia_Panaro.prj\n",
      "(True, 3, ('Starting Unsteady Computations', 'Computing', 'Computations Completed'), True)\n"
     ]
    },
    {
     "name": "stderr",
     "output_type": "stream",
     "text": [
      "[INFO 04-16 02:01:30] ax.service.managed_loop: Running optimization trial 26...\n"
     ]
    },
    {
     "name": "stdout",
     "output_type": "stream",
     "text": [
      "PARAMS [0.0562918206008729, 0.17269868028821544, 0.030343612364758236]\n",
      "The DType <class 'numpy._FloatAbstractDType'> could not be promoted by <class 'numpy.dtype[void]'>. This means that no common DType exists for the given inputs. For example they cannot be stored in a single array unless the dtype is `object`. The full list of DTypes is: (<class 'numpy.dtype[void]'>, <class 'numpy._FloatAbstractDType'>)\n",
      "Most likely trying to compare non-numerics. Assuming correct...\n",
      "FILE DATASET [(b'nodata',        nan) (b'campagna', 0.05629182) (b'canali', 0.03034361)\n",
      " (b'centri abitati', 0.17269868)]\n",
      "NEW DATASET [(b'nodata',        nan) (b'campagna', 0.05629182) (b'canali', 0.03034361)\n",
      " (b'centri abitati', 0.17269868)]\n",
      "C:\\Users\\ay434\\Documents\\Flood_Sim\\10_min_Runs\\Secchia_flood_2014_10min_Sim\\Secchia_Panaro.prj\n",
      "(True, 3, ('Starting Unsteady Computations', 'Computing', 'Computations Completed'), True)\n"
     ]
    },
    {
     "name": "stderr",
     "output_type": "stream",
     "text": [
      "[INFO 04-16 02:34:13] ax.service.managed_loop: Running optimization trial 27...\n"
     ]
    },
    {
     "name": "stdout",
     "output_type": "stream",
     "text": [
      "PARAMS [0.11, 0.12, 0.01]\n",
      "The DType <class 'numpy._FloatAbstractDType'> could not be promoted by <class 'numpy.dtype[void]'>. This means that no common DType exists for the given inputs. For example they cannot be stored in a single array unless the dtype is `object`. The full list of DTypes is: (<class 'numpy.dtype[void]'>, <class 'numpy._FloatAbstractDType'>)\n",
      "Most likely trying to compare non-numerics. Assuming correct...\n",
      "FILE DATASET [(b'nodata',  nan) (b'campagna', 0.11) (b'canali', 0.01)\n",
      " (b'centri abitati', 0.12)]\n",
      "NEW DATASET [(b'nodata',  nan) (b'campagna', 0.11) (b'canali', 0.01)\n",
      " (b'centri abitati', 0.12)]\n",
      "C:\\Users\\ay434\\Documents\\Flood_Sim\\10_min_Runs\\Secchia_flood_2014_10min_Sim\\Secchia_Panaro.prj\n",
      "(True, 3, ('Starting Unsteady Computations', 'Computing', 'Computations Completed'), True)\n"
     ]
    },
    {
     "name": "stderr",
     "output_type": "stream",
     "text": [
      "[INFO 04-16 03:00:28] ax.service.managed_loop: Running optimization trial 28...\n"
     ]
    },
    {
     "name": "stdout",
     "output_type": "stream",
     "text": [
      "PARAMS [0.05601173219938298, 0.17457731260496856, 0.0322770227334883]\n",
      "The DType <class 'numpy._FloatAbstractDType'> could not be promoted by <class 'numpy.dtype[void]'>. This means that no common DType exists for the given inputs. For example they cannot be stored in a single array unless the dtype is `object`. The full list of DTypes is: (<class 'numpy.dtype[void]'>, <class 'numpy._FloatAbstractDType'>)\n",
      "Most likely trying to compare non-numerics. Assuming correct...\n",
      "FILE DATASET [(b'nodata',        nan) (b'campagna', 0.05601173) (b'canali', 0.03227702)\n",
      " (b'centri abitati', 0.17457731)]\n",
      "NEW DATASET [(b'nodata',        nan) (b'campagna', 0.05601173) (b'canali', 0.03227702)\n",
      " (b'centri abitati', 0.17457731)]\n",
      "C:\\Users\\ay434\\Documents\\Flood_Sim\\10_min_Runs\\Secchia_flood_2014_10min_Sim\\Secchia_Panaro.prj\n",
      "(True, 3, ('Starting Unsteady Computations', 'Computing', 'Computations Completed'), True)\n"
     ]
    },
    {
     "name": "stderr",
     "output_type": "stream",
     "text": [
      "[INFO 04-16 03:33:08] ax.service.managed_loop: Running optimization trial 29...\n"
     ]
    },
    {
     "name": "stdout",
     "output_type": "stream",
     "text": [
      "PARAMS [0.05639329860860495, 0.16966123989124127, 0.03157090341341099]\n",
      "The DType <class 'numpy._FloatAbstractDType'> could not be promoted by <class 'numpy.dtype[void]'>. This means that no common DType exists for the given inputs. For example they cannot be stored in a single array unless the dtype is `object`. The full list of DTypes is: (<class 'numpy.dtype[void]'>, <class 'numpy._FloatAbstractDType'>)\n",
      "Most likely trying to compare non-numerics. Assuming correct...\n",
      "FILE DATASET [(b'nodata',        nan) (b'campagna', 0.0563933 ) (b'canali', 0.0315709 )\n",
      " (b'centri abitati', 0.16966124)]\n",
      "NEW DATASET [(b'nodata',        nan) (b'campagna', 0.0563933 ) (b'canali', 0.0315709 )\n",
      " (b'centri abitati', 0.16966124)]\n",
      "C:\\Users\\ay434\\Documents\\Flood_Sim\\10_min_Runs\\Secchia_flood_2014_10min_Sim\\Secchia_Panaro.prj\n",
      "(True, 3, ('Starting Unsteady Computations', 'Computing', 'Computations Completed'), True)\n"
     ]
    },
    {
     "name": "stderr",
     "output_type": "stream",
     "text": [
      "[INFO 04-16 04:05:41] ax.service.managed_loop: Running optimization trial 30...\n"
     ]
    },
    {
     "name": "stdout",
     "output_type": "stream",
     "text": [
      "PARAMS [0.056029879950978995, 0.17080431590290163, 0.03171573367368605]\n",
      "The DType <class 'numpy._FloatAbstractDType'> could not be promoted by <class 'numpy.dtype[void]'>. This means that no common DType exists for the given inputs. For example they cannot be stored in a single array unless the dtype is `object`. The full list of DTypes is: (<class 'numpy.dtype[void]'>, <class 'numpy._FloatAbstractDType'>)\n",
      "Most likely trying to compare non-numerics. Assuming correct...\n",
      "FILE DATASET [(b'nodata',        nan) (b'campagna', 0.05602988) (b'canali', 0.03171573)\n",
      " (b'centri abitati', 0.17080432)]\n",
      "NEW DATASET [(b'nodata',        nan) (b'campagna', 0.05602988) (b'canali', 0.03171573)\n",
      " (b'centri abitati', 0.17080432)]\n",
      "C:\\Users\\ay434\\Documents\\Flood_Sim\\10_min_Runs\\Secchia_flood_2014_10min_Sim\\Secchia_Panaro.prj\n",
      "(True, 3, ('Starting Unsteady Computations', 'Computing', 'Computations Completed'), True)\n"
     ]
    },
    {
     "name": "stderr",
     "output_type": "stream",
     "text": [
      "[INFO 04-16 04:38:33] ax.service.managed_loop: Running optimization trial 31...\n"
     ]
    },
    {
     "name": "stdout",
     "output_type": "stream",
     "text": [
      "PARAMS [0.05610960646272106, 0.1732026321204524, 0.029276765588806694]\n",
      "The DType <class 'numpy._FloatAbstractDType'> could not be promoted by <class 'numpy.dtype[void]'>. This means that no common DType exists for the given inputs. For example they cannot be stored in a single array unless the dtype is `object`. The full list of DTypes is: (<class 'numpy.dtype[void]'>, <class 'numpy._FloatAbstractDType'>)\n",
      "Most likely trying to compare non-numerics. Assuming correct...\n",
      "FILE DATASET [(b'nodata',        nan) (b'campagna', 0.05610961) (b'canali', 0.02927677)\n",
      " (b'centri abitati', 0.17320263)]\n",
      "NEW DATASET [(b'nodata',        nan) (b'campagna', 0.05610961) (b'canali', 0.02927677)\n",
      " (b'centri abitati', 0.17320263)]\n",
      "C:\\Users\\ay434\\Documents\\Flood_Sim\\10_min_Runs\\Secchia_flood_2014_10min_Sim\\Secchia_Panaro.prj\n",
      "(True, 3, ('Starting Unsteady Computations', 'Computing', 'Computations Completed'), True)\n"
     ]
    },
    {
     "name": "stderr",
     "output_type": "stream",
     "text": [
      "[INFO 04-16 05:10:54] ax.service.managed_loop: Running optimization trial 32...\n"
     ]
    },
    {
     "name": "stdout",
     "output_type": "stream",
     "text": [
      "PARAMS [0.05606222271950519, 0.17333474780760852, 0.031234034442048086]\n",
      "The DType <class 'numpy._FloatAbstractDType'> could not be promoted by <class 'numpy.dtype[void]'>. This means that no common DType exists for the given inputs. For example they cannot be stored in a single array unless the dtype is `object`. The full list of DTypes is: (<class 'numpy.dtype[void]'>, <class 'numpy._FloatAbstractDType'>)\n",
      "Most likely trying to compare non-numerics. Assuming correct...\n",
      "FILE DATASET [(b'nodata',        nan) (b'campagna', 0.05606222) (b'canali', 0.03123404)\n",
      " (b'centri abitati', 0.17333475)]\n",
      "NEW DATASET [(b'nodata',        nan) (b'campagna', 0.05606222) (b'canali', 0.03123404)\n",
      " (b'centri abitati', 0.17333475)]\n",
      "C:\\Users\\ay434\\Documents\\Flood_Sim\\10_min_Runs\\Secchia_flood_2014_10min_Sim\\Secchia_Panaro.prj\n",
      "(True, 3, ('Starting Unsteady Computations', 'Computing', 'Computations Completed'), True)\n"
     ]
    },
    {
     "name": "stderr",
     "output_type": "stream",
     "text": [
      "[INFO 04-16 05:43:27] ax.service.managed_loop: Running optimization trial 33...\n"
     ]
    },
    {
     "name": "stdout",
     "output_type": "stream",
     "text": [
      "PARAMS [0.05649376845275227, 0.17030865180899665, 0.02910631976260976]\n",
      "The DType <class 'numpy._FloatAbstractDType'> could not be promoted by <class 'numpy.dtype[void]'>. This means that no common DType exists for the given inputs. For example they cannot be stored in a single array unless the dtype is `object`. The full list of DTypes is: (<class 'numpy.dtype[void]'>, <class 'numpy._FloatAbstractDType'>)\n",
      "Most likely trying to compare non-numerics. Assuming correct...\n",
      "FILE DATASET [(b'nodata',        nan) (b'campagna', 0.05649377) (b'canali', 0.02910632)\n",
      " (b'centri abitati', 0.17030865)]\n",
      "NEW DATASET [(b'nodata',        nan) (b'campagna', 0.05649377) (b'canali', 0.02910632)\n",
      " (b'centri abitati', 0.17030865)]\n",
      "C:\\Users\\ay434\\Documents\\Flood_Sim\\10_min_Runs\\Secchia_flood_2014_10min_Sim\\Secchia_Panaro.prj\n",
      "(True, 3, ('Starting Unsteady Computations', 'Computing', 'Computations Completed'), True)\n"
     ]
    },
    {
     "name": "stderr",
     "output_type": "stream",
     "text": [
      "[INFO 04-16 06:23:51] ax.service.managed_loop: Running optimization trial 34...\n"
     ]
    },
    {
     "name": "stdout",
     "output_type": "stream",
     "text": [
      "PARAMS [0.05243732371017176, 0.18673105308526616, 0.06]\n",
      "The DType <class 'numpy._FloatAbstractDType'> could not be promoted by <class 'numpy.dtype[void]'>. This means that no common DType exists for the given inputs. For example they cannot be stored in a single array unless the dtype is `object`. The full list of DTypes is: (<class 'numpy.dtype[void]'>, <class 'numpy._FloatAbstractDType'>)\n",
      "Most likely trying to compare non-numerics. Assuming correct...\n",
      "FILE DATASET [(b'nodata',        nan) (b'campagna', 0.05243732) (b'canali', 0.06      )\n",
      " (b'centri abitati', 0.18673106)]\n",
      "NEW DATASET [(b'nodata',        nan) (b'campagna', 0.05243732) (b'canali', 0.06      )\n",
      " (b'centri abitati', 0.18673106)]\n",
      "C:\\Users\\ay434\\Documents\\Flood_Sim\\10_min_Runs\\Secchia_flood_2014_10min_Sim\\Secchia_Panaro.prj\n",
      "(True, 3, ('Starting Unsteady Computations', 'Computing', 'Computations Completed'), True)\n"
     ]
    },
    {
     "name": "stderr",
     "output_type": "stream",
     "text": [
      "[INFO 04-16 06:54:39] ax.service.managed_loop: Running optimization trial 35...\n"
     ]
    },
    {
     "name": "stdout",
     "output_type": "stream",
     "text": [
      "PARAMS [0.05625041148467402, 0.1711138387898188, 0.031117217618234022]\n",
      "The DType <class 'numpy._FloatAbstractDType'> could not be promoted by <class 'numpy.dtype[void]'>. This means that no common DType exists for the given inputs. For example they cannot be stored in a single array unless the dtype is `object`. The full list of DTypes is: (<class 'numpy.dtype[void]'>, <class 'numpy._FloatAbstractDType'>)\n",
      "Most likely trying to compare non-numerics. Assuming correct...\n",
      "FILE DATASET [(b'nodata',        nan) (b'campagna', 0.05625041) (b'canali', 0.03111722)\n",
      " (b'centri abitati', 0.17111383)]\n",
      "NEW DATASET [(b'nodata',        nan) (b'campagna', 0.05625041) (b'canali', 0.03111722)\n",
      " (b'centri abitati', 0.17111383)]\n",
      "C:\\Users\\ay434\\Documents\\Flood_Sim\\10_min_Runs\\Secchia_flood_2014_10min_Sim\\Secchia_Panaro.prj\n",
      "(True, 3, ('Starting Unsteady Computations', 'Computing', 'Computations Completed'), True)\n"
     ]
    },
    {
     "name": "stderr",
     "output_type": "stream",
     "text": [
      "[INFO 04-16 07:34:32] ax.service.managed_loop: Running optimization trial 36...\n"
     ]
    },
    {
     "name": "stdout",
     "output_type": "stream",
     "text": [
      "PARAMS [0.056272219010662164, 0.16934516467656335, 0.030900870981315623]\n",
      "The DType <class 'numpy._FloatAbstractDType'> could not be promoted by <class 'numpy.dtype[void]'>. This means that no common DType exists for the given inputs. For example they cannot be stored in a single array unless the dtype is `object`. The full list of DTypes is: (<class 'numpy.dtype[void]'>, <class 'numpy._FloatAbstractDType'>)\n",
      "Most likely trying to compare non-numerics. Assuming correct...\n",
      "FILE DATASET [(b'nodata',        nan) (b'campagna', 0.05627222) (b'canali', 0.03090087)\n",
      " (b'centri abitati', 0.16934517)]\n",
      "NEW DATASET [(b'nodata',        nan) (b'campagna', 0.05627222) (b'canali', 0.03090087)\n",
      " (b'centri abitati', 0.16934517)]\n",
      "C:\\Users\\ay434\\Documents\\Flood_Sim\\10_min_Runs\\Secchia_flood_2014_10min_Sim\\Secchia_Panaro.prj\n",
      "(True, 3, ('Starting Unsteady Computations', 'Computing', 'Computations Completed'), True)\n"
     ]
    },
    {
     "name": "stderr",
     "output_type": "stream",
     "text": [
      "[INFO 04-16 08:07:17] ax.service.managed_loop: Running optimization trial 37...\n"
     ]
    },
    {
     "name": "stdout",
     "output_type": "stream",
     "text": [
      "PARAMS [0.05784410755406437, 0.16453285089522757, 0.02404465715650166]\n",
      "The DType <class 'numpy._FloatAbstractDType'> could not be promoted by <class 'numpy.dtype[void]'>. This means that no common DType exists for the given inputs. For example they cannot be stored in a single array unless the dtype is `object`. The full list of DTypes is: (<class 'numpy.dtype[void]'>, <class 'numpy._FloatAbstractDType'>)\n",
      "Most likely trying to compare non-numerics. Assuming correct...\n",
      "FILE DATASET [(b'nodata',        nan) (b'campagna', 0.05784411) (b'canali', 0.02404466)\n",
      " (b'centri abitati', 0.16453286)]\n",
      "NEW DATASET [(b'nodata',        nan) (b'campagna', 0.05784411) (b'canali', 0.02404466)\n",
      " (b'centri abitati', 0.16453286)]\n",
      "C:\\Users\\ay434\\Documents\\Flood_Sim\\10_min_Runs\\Secchia_flood_2014_10min_Sim\\Secchia_Panaro.prj\n",
      "(True, 3, ('Starting Unsteady Computations', 'Computing', 'Computations Completed'), True)\n"
     ]
    },
    {
     "name": "stderr",
     "output_type": "stream",
     "text": [
      "[INFO 04-16 08:39:41] ax.service.managed_loop: Running optimization trial 38...\n"
     ]
    },
    {
     "name": "stdout",
     "output_type": "stream",
     "text": [
      "PARAMS [0.05646089276918907, 0.17083616205197918, 0.03026118934828803]\n",
      "The DType <class 'numpy._FloatAbstractDType'> could not be promoted by <class 'numpy.dtype[void]'>. This means that no common DType exists for the given inputs. For example they cannot be stored in a single array unless the dtype is `object`. The full list of DTypes is: (<class 'numpy.dtype[void]'>, <class 'numpy._FloatAbstractDType'>)\n",
      "Most likely trying to compare non-numerics. Assuming correct...\n",
      "FILE DATASET [(b'nodata',        nan) (b'campagna', 0.05646089) (b'canali', 0.03026119)\n",
      " (b'centri abitati', 0.17083617)]\n",
      "NEW DATASET [(b'nodata',        nan) (b'campagna', 0.05646089) (b'canali', 0.03026119)\n",
      " (b'centri abitati', 0.17083617)]\n",
      "C:\\Users\\ay434\\Documents\\Flood_Sim\\10_min_Runs\\Secchia_flood_2014_10min_Sim\\Secchia_Panaro.prj\n",
      "(True, 3, ('Starting Unsteady Computations', 'Computing', 'Computations Completed'), True)\n"
     ]
    },
    {
     "name": "stderr",
     "output_type": "stream",
     "text": [
      "[INFO 04-16 09:20:02] ax.service.managed_loop: Running optimization trial 39...\n"
     ]
    },
    {
     "name": "stdout",
     "output_type": "stream",
     "text": [
      "PARAMS [0.05625792529694969, 0.17117023935914538, 0.029037358201747222]\n",
      "The DType <class 'numpy._FloatAbstractDType'> could not be promoted by <class 'numpy.dtype[void]'>. This means that no common DType exists for the given inputs. For example they cannot be stored in a single array unless the dtype is `object`. The full list of DTypes is: (<class 'numpy.dtype[void]'>, <class 'numpy._FloatAbstractDType'>)\n",
      "Most likely trying to compare non-numerics. Assuming correct...\n",
      "FILE DATASET [(b'nodata',        nan) (b'campagna', 0.05625793) (b'canali', 0.02903736)\n",
      " (b'centri abitati', 0.17117023)]\n",
      "NEW DATASET [(b'nodata',        nan) (b'campagna', 0.05625793) (b'canali', 0.02903736)\n",
      " (b'centri abitati', 0.17117023)]\n",
      "C:\\Users\\ay434\\Documents\\Flood_Sim\\10_min_Runs\\Secchia_flood_2014_10min_Sim\\Secchia_Panaro.prj\n",
      "(True, 3, ('Starting Unsteady Computations', 'Computing', 'Computations Completed'), True)\n"
     ]
    },
    {
     "name": "stderr",
     "output_type": "stream",
     "text": [
      "[INFO 04-16 09:52:43] ax.service.managed_loop: Running optimization trial 40...\n"
     ]
    },
    {
     "name": "stdout",
     "output_type": "stream",
     "text": [
      "PARAMS [0.11, 0.28, 0.06]\n",
      "The DType <class 'numpy._FloatAbstractDType'> could not be promoted by <class 'numpy.dtype[void]'>. This means that no common DType exists for the given inputs. For example they cannot be stored in a single array unless the dtype is `object`. The full list of DTypes is: (<class 'numpy.dtype[void]'>, <class 'numpy._FloatAbstractDType'>)\n",
      "Most likely trying to compare non-numerics. Assuming correct...\n",
      "FILE DATASET [(b'nodata',  nan) (b'campagna', 0.11) (b'canali', 0.06)\n",
      " (b'centri abitati', 0.28)]\n",
      "NEW DATASET [(b'nodata',  nan) (b'campagna', 0.11) (b'canali', 0.06)\n",
      " (b'centri abitati', 0.28)]\n",
      "C:\\Users\\ay434\\Documents\\Flood_Sim\\10_min_Runs\\Secchia_flood_2014_10min_Sim\\Secchia_Panaro.prj\n",
      "(True, 3, ('Starting Unsteady Computations', 'Computing', 'Computations Completed'), True)\n"
     ]
    },
    {
     "name": "stderr",
     "output_type": "stream",
     "text": [
      "[INFO 04-16 10:17:54] ax.service.managed_loop: Running optimization trial 41...\n"
     ]
    },
    {
     "name": "stdout",
     "output_type": "stream",
     "text": [
      "PARAMS [0.05644747918941068, 0.16945468279101467, 0.030215786437805765]\n",
      "The DType <class 'numpy._FloatAbstractDType'> could not be promoted by <class 'numpy.dtype[void]'>. This means that no common DType exists for the given inputs. For example they cannot be stored in a single array unless the dtype is `object`. The full list of DTypes is: (<class 'numpy.dtype[void]'>, <class 'numpy._FloatAbstractDType'>)\n",
      "Most likely trying to compare non-numerics. Assuming correct...\n",
      "FILE DATASET [(b'nodata',        nan) (b'campagna', 0.05644748) (b'canali', 0.03021579)\n",
      " (b'centri abitati', 0.16945468)]\n",
      "NEW DATASET [(b'nodata',        nan) (b'campagna', 0.05644748) (b'canali', 0.03021579)\n",
      " (b'centri abitati', 0.16945468)]\n",
      "C:\\Users\\ay434\\Documents\\Flood_Sim\\10_min_Runs\\Secchia_flood_2014_10min_Sim\\Secchia_Panaro.prj\n",
      "(True, 3, ('Starting Unsteady Computations', 'Computing', 'Computations Completed'), True)\n"
     ]
    },
    {
     "name": "stderr",
     "output_type": "stream",
     "text": [
      "[INFO 04-16 10:58:05] ax.service.managed_loop: Running optimization trial 42...\n"
     ]
    },
    {
     "name": "stdout",
     "output_type": "stream",
     "text": [
      "PARAMS [0.09059154780198517, 0.12, 0.01]\n",
      "The DType <class 'numpy._FloatAbstractDType'> could not be promoted by <class 'numpy.dtype[void]'>. This means that no common DType exists for the given inputs. For example they cannot be stored in a single array unless the dtype is `object`. The full list of DTypes is: (<class 'numpy.dtype[void]'>, <class 'numpy._FloatAbstractDType'>)\n",
      "Most likely trying to compare non-numerics. Assuming correct...\n",
      "FILE DATASET [(b'nodata',        nan) (b'campagna', 0.09059155) (b'canali', 0.01      )\n",
      " (b'centri abitati', 0.12      )]\n",
      "NEW DATASET [(b'nodata',        nan) (b'campagna', 0.09059155) (b'canali', 0.01      )\n",
      " (b'centri abitati', 0.12      )]\n",
      "C:\\Users\\ay434\\Documents\\Flood_Sim\\10_min_Runs\\Secchia_flood_2014_10min_Sim\\Secchia_Panaro.prj\n",
      "(True, 3, ('Starting Unsteady Computations', 'Computing', 'Computations Completed'), True)\n"
     ]
    },
    {
     "name": "stderr",
     "output_type": "stream",
     "text": [
      "[INFO 04-16 11:34:07] ax.service.managed_loop: Running optimization trial 43...\n"
     ]
    },
    {
     "name": "stdout",
     "output_type": "stream",
     "text": [
      "PARAMS [0.05646794843679616, 0.17207424824206266, 0.028998532632129932]\n",
      "The DType <class 'numpy._FloatAbstractDType'> could not be promoted by <class 'numpy.dtype[void]'>. This means that no common DType exists for the given inputs. For example they cannot be stored in a single array unless the dtype is `object`. The full list of DTypes is: (<class 'numpy.dtype[void]'>, <class 'numpy._FloatAbstractDType'>)\n",
      "Most likely trying to compare non-numerics. Assuming correct...\n",
      "FILE DATASET [(b'nodata',        nan) (b'campagna', 0.05646795) (b'canali', 0.02899853)\n",
      " (b'centri abitati', 0.17207424)]\n",
      "NEW DATASET [(b'nodata',        nan) (b'campagna', 0.05646795) (b'canali', 0.02899853)\n",
      " (b'centri abitati', 0.17207424)]\n",
      "C:\\Users\\ay434\\Documents\\Flood_Sim\\10_min_Runs\\Secchia_flood_2014_10min_Sim\\Secchia_Panaro.prj\n",
      "(True, 3, ('Starting Unsteady Computations', 'Computing', 'Computations Completed'), True)\n"
     ]
    },
    {
     "name": "stderr",
     "output_type": "stream",
     "text": [
      "[INFO 04-16 12:14:07] ax.service.managed_loop: Running optimization trial 44...\n"
     ]
    },
    {
     "name": "stdout",
     "output_type": "stream",
     "text": [
      "PARAMS [0.056201909697543906, 0.16969670892132796, 0.03192543952130875]\n",
      "The DType <class 'numpy._FloatAbstractDType'> could not be promoted by <class 'numpy.dtype[void]'>. This means that no common DType exists for the given inputs. For example they cannot be stored in a single array unless the dtype is `object`. The full list of DTypes is: (<class 'numpy.dtype[void]'>, <class 'numpy._FloatAbstractDType'>)\n",
      "Most likely trying to compare non-numerics. Assuming correct...\n",
      "FILE DATASET [(b'nodata',        nan) (b'campagna', 0.05620191) (b'canali', 0.03192544)\n",
      " (b'centri abitati', 0.1696967 )]\n",
      "NEW DATASET [(b'nodata',        nan) (b'campagna', 0.05620191) (b'canali', 0.03192544)\n",
      " (b'centri abitati', 0.1696967 )]\n",
      "C:\\Users\\ay434\\Documents\\Flood_Sim\\10_min_Runs\\Secchia_flood_2014_10min_Sim\\Secchia_Panaro.prj\n",
      "(True, 3, ('Starting Unsteady Computations', 'Computing', 'Computations Completed'), True)\n"
     ]
    },
    {
     "name": "stderr",
     "output_type": "stream",
     "text": [
      "[INFO 04-16 12:54:27] ax.service.managed_loop: Running optimization trial 45...\n"
     ]
    },
    {
     "name": "stdout",
     "output_type": "stream",
     "text": [
      "PARAMS [0.056150914945391775, 0.16974138058671812, 0.029958024659915407]\n",
      "The DType <class 'numpy._FloatAbstractDType'> could not be promoted by <class 'numpy.dtype[void]'>. This means that no common DType exists for the given inputs. For example they cannot be stored in a single array unless the dtype is `object`. The full list of DTypes is: (<class 'numpy.dtype[void]'>, <class 'numpy._FloatAbstractDType'>)\n",
      "Most likely trying to compare non-numerics. Assuming correct...\n",
      "FILE DATASET [(b'nodata',        nan) (b'campagna', 0.05615091) (b'canali', 0.02995802)\n",
      " (b'centri abitati', 0.16974138)]\n",
      "NEW DATASET [(b'nodata',        nan) (b'campagna', 0.05615091) (b'canali', 0.02995802)\n",
      " (b'centri abitati', 0.16974138)]\n",
      "C:\\Users\\ay434\\Documents\\Flood_Sim\\10_min_Runs\\Secchia_flood_2014_10min_Sim\\Secchia_Panaro.prj\n",
      "(True, 3, ('Starting Unsteady Computations', 'Computing', 'Computations Completed'), True)\n"
     ]
    },
    {
     "name": "stderr",
     "output_type": "stream",
     "text": [
      "[INFO 04-16 13:27:15] ax.service.managed_loop: Running optimization trial 46...\n"
     ]
    },
    {
     "name": "stdout",
     "output_type": "stream",
     "text": [
      "PARAMS [0.0561652885163945, 0.17148927218398852, 0.030663241717227306]\n",
      "The DType <class 'numpy._FloatAbstractDType'> could not be promoted by <class 'numpy.dtype[void]'>. This means that no common DType exists for the given inputs. For example they cannot be stored in a single array unless the dtype is `object`. The full list of DTypes is: (<class 'numpy.dtype[void]'>, <class 'numpy._FloatAbstractDType'>)\n",
      "Most likely trying to compare non-numerics. Assuming correct...\n",
      "FILE DATASET [(b'nodata',        nan) (b'campagna', 0.05616529) (b'canali', 0.03066324)\n",
      " (b'centri abitati', 0.17148927)]\n",
      "NEW DATASET [(b'nodata',        nan) (b'campagna', 0.05616529) (b'canali', 0.03066324)\n",
      " (b'centri abitati', 0.17148927)]\n",
      "C:\\Users\\ay434\\Documents\\Flood_Sim\\10_min_Runs\\Secchia_flood_2014_10min_Sim\\Secchia_Panaro.prj\n",
      "(True, 3, ('Starting Unsteady Computations', 'Computing', 'Computations Completed'), True)\n"
     ]
    },
    {
     "name": "stderr",
     "output_type": "stream",
     "text": [
      "[INFO 04-16 14:00:07] ax.service.managed_loop: Running optimization trial 47...\n"
     ]
    },
    {
     "name": "stdout",
     "output_type": "stream",
     "text": [
      "PARAMS [0.05622389502670818, 0.17033631677931033, 0.030892826408375373]\n",
      "The DType <class 'numpy._FloatAbstractDType'> could not be promoted by <class 'numpy.dtype[void]'>. This means that no common DType exists for the given inputs. For example they cannot be stored in a single array unless the dtype is `object`. The full list of DTypes is: (<class 'numpy.dtype[void]'>, <class 'numpy._FloatAbstractDType'>)\n",
      "Most likely trying to compare non-numerics. Assuming correct...\n",
      "FILE DATASET [(b'nodata',        nan) (b'campagna', 0.0562239 ) (b'canali', 0.03089283)\n",
      " (b'centri abitati', 0.17033632)]\n",
      "NEW DATASET [(b'nodata',        nan) (b'campagna', 0.0562239 ) (b'canali', 0.03089283)\n",
      " (b'centri abitati', 0.17033632)]\n",
      "C:\\Users\\ay434\\Documents\\Flood_Sim\\10_min_Runs\\Secchia_flood_2014_10min_Sim\\Secchia_Panaro.prj\n",
      "(True, 3, ('Starting Unsteady Computations', 'Computing', 'Computations Completed'), True)\n"
     ]
    },
    {
     "name": "stderr",
     "output_type": "stream",
     "text": [
      "[INFO 04-16 14:32:55] ax.service.managed_loop: Running optimization trial 48...\n"
     ]
    },
    {
     "name": "stdout",
     "output_type": "stream",
     "text": [
      "PARAMS [0.05599447681096065, 0.1719642395735873, 0.031570466647520834]\n",
      "The DType <class 'numpy._FloatAbstractDType'> could not be promoted by <class 'numpy.dtype[void]'>. This means that no common DType exists for the given inputs. For example they cannot be stored in a single array unless the dtype is `object`. The full list of DTypes is: (<class 'numpy.dtype[void]'>, <class 'numpy._FloatAbstractDType'>)\n",
      "Most likely trying to compare non-numerics. Assuming correct...\n",
      "FILE DATASET [(b'nodata',        nan) (b'campagna', 0.05599448) (b'canali', 0.03157047)\n",
      " (b'centri abitati', 0.17196424)]\n",
      "NEW DATASET [(b'nodata',        nan) (b'campagna', 0.05599448) (b'canali', 0.03157047)\n",
      " (b'centri abitati', 0.17196424)]\n",
      "C:\\Users\\ay434\\Documents\\Flood_Sim\\10_min_Runs\\Secchia_flood_2014_10min_Sim\\Secchia_Panaro.prj\n",
      "(True, 3, ('Starting Unsteady Computations', 'Computing', 'Computations Completed'), True)\n"
     ]
    },
    {
     "name": "stderr",
     "output_type": "stream",
     "text": [
      "[INFO 04-16 15:05:49] ax.service.managed_loop: Running optimization trial 49...\n"
     ]
    },
    {
     "name": "stdout",
     "output_type": "stream",
     "text": [
      "PARAMS [0.05644292097590686, 0.17072607350923702, 0.0310182455904512]\n",
      "The DType <class 'numpy._FloatAbstractDType'> could not be promoted by <class 'numpy.dtype[void]'>. This means that no common DType exists for the given inputs. For example they cannot be stored in a single array unless the dtype is `object`. The full list of DTypes is: (<class 'numpy.dtype[void]'>, <class 'numpy._FloatAbstractDType'>)\n",
      "Most likely trying to compare non-numerics. Assuming correct...\n",
      "FILE DATASET [(b'nodata',        nan) (b'campagna', 0.05644292) (b'canali', 0.03101825)\n",
      " (b'centri abitati', 0.17072608)]\n",
      "NEW DATASET [(b'nodata',        nan) (b'campagna', 0.05644292) (b'canali', 0.03101825)\n",
      " (b'centri abitati', 0.17072608)]\n",
      "C:\\Users\\ay434\\Documents\\Flood_Sim\\10_min_Runs\\Secchia_flood_2014_10min_Sim\\Secchia_Panaro.prj\n",
      "(True, 3, ('Starting Unsteady Computations', 'Computing', 'Computations Completed'), True)\n"
     ]
    },
    {
     "name": "stderr",
     "output_type": "stream",
     "text": [
      "[INFO 04-16 15:45:40] ax.service.managed_loop: Running optimization trial 50...\n"
     ]
    },
    {
     "name": "stdout",
     "output_type": "stream",
     "text": [
      "PARAMS [0.0560861596837915, 0.16987466984326777, 0.03108668684795106]\n",
      "The DType <class 'numpy._FloatAbstractDType'> could not be promoted by <class 'numpy.dtype[void]'>. This means that no common DType exists for the given inputs. For example they cannot be stored in a single array unless the dtype is `object`. The full list of DTypes is: (<class 'numpy.dtype[void]'>, <class 'numpy._FloatAbstractDType'>)\n",
      "Most likely trying to compare non-numerics. Assuming correct...\n",
      "FILE DATASET [(b'nodata',        nan) (b'campagna', 0.05608616) (b'canali', 0.03108669)\n",
      " (b'centri abitati', 0.16987467)]\n",
      "NEW DATASET [(b'nodata',        nan) (b'campagna', 0.05608616) (b'canali', 0.03108669)\n",
      " (b'centri abitati', 0.16987467)]\n",
      "C:\\Users\\ay434\\Documents\\Flood_Sim\\10_min_Runs\\Secchia_flood_2014_10min_Sim\\Secchia_Panaro.prj\n",
      "(True, 3, ('Starting Unsteady Computations', 'Computing', 'Computations Completed'), True)\n"
     ]
    }
   ],
   "source": [
    "# Run the optimization procedure.\n",
    "run_1D2D_optimize.main(cfg)"
   ]
  },
  {
   "cell_type": "code",
   "execution_count": null,
   "id": "8e5e18d5",
   "metadata": {},
   "outputs": [],
   "source": []
  }
 ],
 "metadata": {
  "kernelspec": {
   "display_name": "rasopt-env",
   "language": "python",
   "name": "rasopt-env"
  },
  "language_info": {
   "codemirror_mode": {
    "name": "ipython",
    "version": 3
   },
   "file_extension": ".py",
   "mimetype": "text/x-python",
   "name": "python",
   "nbconvert_exporter": "python",
   "pygments_lexer": "ipython3",
   "version": "3.9.5"
  }
 },
 "nbformat": 4,
 "nbformat_minor": 5
}
