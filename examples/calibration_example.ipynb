{
 "cells": [
  {
   "cell_type": "markdown",
   "id": "18bbf9d8",
   "metadata": {},
   "source": [
    "# Calibration Notebook.\n",
    "Notebook for calling the calibration process."
   ]
  },
  {
   "cell_type": "code",
   "execution_count": null,
   "id": "29b02f6d",
   "metadata": {},
   "outputs": [],
   "source": [
    "# Library imports.\n",
    "import yaml\n",
    "\n",
    "# Local imports.\n",
    "from rasopt.Optimize import run_1D2D_optimize"
   ]
  },
  {
   "cell_type": "code",
   "execution_count": null,
   "id": "2eec3561",
   "metadata": {},
   "outputs": [],
   "source": [
    "# Load in the configuration file.\n",
    "config_fp = \"config_1D2D.yml\"\n",
    "\n",
    "with open(config_fp, \"r\") as ymlfile:\n",
    "    cfg = yaml.safe_load(ymlfile)"
   ]
  },
  {
   "cell_type": "code",
   "execution_count": null,
   "id": "fe9e8374",
   "metadata": {},
   "outputs": [],
   "source": [
    "# Run the optimization procedure.\n",
    "run_1D2D_optimize.main(cfg)"
   ]
  }
 ],
 "metadata": {
  "kernelspec": {
   "display_name": "rasopt-env",
   "language": "python",
   "name": "rasopt-env"
  },
  "language_info": {
   "codemirror_mode": {
    "name": "ipython",
    "version": 3
   },
   "file_extension": ".py",
   "mimetype": "text/x-python",
   "name": "python",
   "nbconvert_exporter": "python",
   "pygments_lexer": "ipython3",
   "version": "3.9.5"
  }
 },
 "nbformat": 4,
 "nbformat_minor": 5
}
