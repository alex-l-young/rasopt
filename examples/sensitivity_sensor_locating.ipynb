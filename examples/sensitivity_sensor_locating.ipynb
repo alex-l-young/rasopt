{
 "cells": [
  {
   "cell_type": "code",
   "execution_count": 1,
   "id": "8d33b464",
   "metadata": {},
   "outputs": [
    {
     "name": "stdout",
     "output_type": "stream",
     "text": [
      "Could not import rascontrol library.\n"
     ]
    }
   ],
   "source": [
    "# Library imports.\n",
    "import matplotlib.pyplot as plt\n",
    "import numpy as np\n",
    "from scipy.io import savemat\n",
    "import os\n",
    "import rasterio\n",
    "\n",
    "# Local imports.\n",
    "from rasopt.Utilities import utils, land_cover_utils"
   ]
  },
  {
   "cell_type": "code",
   "execution_count": 21,
   "id": "960a6c26",
   "metadata": {},
   "outputs": [],
   "source": [
    "# Sensor location save path.\n",
    "sensor_savefp = r\"C:\\Users\\ayoun\\Documents\\rasopt\\src\\rasopt\\Optimize\\sensor_locations.csv\""
   ]
  },
  {
   "cell_type": "code",
   "execution_count": 4,
   "id": "c099c424",
   "metadata": {},
   "outputs": [],
   "source": [
    "# Plan file directory.\n",
    "plan_dir = r\"C:\\Users\\ayoun\\Box\\Research\\Flood_Sim_Materials\\BayesOpt_Paper\\Data\\Mannings_Sensitivity\"\n",
    "\n",
    "# Plan file names.\n",
    "plan_fnames = [\n",
    "    'Secchia_Panaro.p23_camp0.03.hdf',\n",
    "    'Secchia_Panaro.p23_camp0.06.hdf',\n",
    "    'Secchia_Panaro.p23_camp0.09.hdf',\n",
    "    'Secchia_Panaro.p23_camp0.12.hdf',\n",
    "    'Secchia_Panaro.p23_camp0.2.hdf',\n",
    "]\n",
    "\n",
    "# Plan file paths.\n",
    "plan_fps = [os.path.join(plan_dir, fname) for fname in plan_fnames]"
   ]
  },
  {
   "cell_type": "code",
   "execution_count": 5,
   "id": "3411a30b",
   "metadata": {},
   "outputs": [],
   "source": [
    "# HDF5 plan paths.\n",
    "# Cell coordinate path.\n",
    "cell_coord_path = 'Geometry/2D Flow Areas/Secchia_Panaro/Cells Center Coordinate'\n",
    "\n",
    "# Water depths path.\n",
    "depth_path = ('Results/Unsteady/Output/Output Blocks/Base Output/Unsteady Time Series/'\n",
    "              '2D Flow Areas/Secchia_Panaro/Depth')"
   ]
  },
  {
   "cell_type": "code",
   "execution_count": 6,
   "id": "6d0ab952",
   "metadata": {},
   "outputs": [],
   "source": [
    "# Create depth time series data frames for each plan file. \n",
    "depth_dfs = [utils.extract_depths(plan_fp, depth_path, cell_coord_path) for plan_fp in plan_fps]"
   ]
  },
  {
   "cell_type": "code",
   "execution_count": 7,
   "id": "9b6fb3b0",
   "metadata": {},
   "outputs": [],
   "source": [
    "# Retain cells that reach cutoff depth for all Manning's n cases.\n",
    "cutoff = 0.5\n",
    "max_ar = np.zeros((depth_dfs[0].shape[0], len(plan_fnames)))\n",
    "for i, df in enumerate(depth_dfs):\n",
    "    depth_ar = df.to_numpy()\n",
    "    max_depths = np.max(depth_ar[:,2:], axis=1)\n",
    "    max_ar[:,i] = max_depths\n",
    "    \n",
    "# Filter by cutoff.\n",
    "retain_rows = np.min(max_ar, axis=1) > cutoff\n",
    "filter_dfs = [df.iloc[retain_rows,:] for df in depth_dfs]"
   ]
  },
  {
   "cell_type": "code",
   "execution_count": 58,
   "id": "f87782f0",
   "metadata": {},
   "outputs": [
    {
     "name": "stdout",
     "output_type": "stream",
     "text": [
      "(428, 61)\n"
     ]
    },
    {
     "data": {
      "text/plain": [
       "[<matplotlib.lines.Line2D at 0x16b554b8670>]"
      ]
     },
     "execution_count": 58,
     "metadata": {},
     "output_type": "execute_result"
    },
    {
     "data": {
      "image/png": "[encoded data removed]",
      "text/plain": [
       "<Figure size 432x288 with 1 Axes>"
      ]
     },
     "metadata": {
      "needs_background": "light"
     },
     "output_type": "display_data"
    }
   ],
   "source": [
    "# Compute cell sensitivity based on the average range of the cases.\n",
    "\n",
    "# Save the lat and lon as a numpy array.\n",
    "lat_lon = filter_dfs[0].loc[:, ['lat', 'lon']].to_numpy()\n",
    "\n",
    "# Create array of all cases. Without lat/lon.\n",
    "case_ar = np.zeros((filter_dfs[0].shape[0], filter_dfs[0].shape[1]-2, len(plan_fnames)))\n",
    "for i, df in enumerate(filter_dfs):\n",
    "    depth_ar = df.to_numpy()\n",
    "    case_ar[:,:,i] = depth_ar[:,2:]\n",
    "    \n",
    "# Min and max of 3rd dimension.\n",
    "case_min = np.min(case_ar, axis=2)\n",
    "case_max = np.max(case_ar, axis=2)\n",
    "case_var = np.var(case_ar, axis=2)\n",
    "print(case_var.shape)\n",
    "\n",
    "# Range.\n",
    "case_range = case_max - case_min\n",
    "\n",
    "# Mean of the range for each row.\n",
    "case_mean = np.mean(case_var, axis=1)\n",
    "\n",
    "# Argsort the case variance.\n",
    "mean_sort_idxs = np.argsort(case_mean)\n",
    "mean_sort_idxs = np.flip(mean_sort_idxs)\n",
    "\n",
    "# Plot the variance.\n",
    "fig, ax = plt.subplots()\n",
    "ax.plot(case_mean[mean_sort_idxs])"
   ]
  },
  {
   "cell_type": "code",
   "execution_count": 59,
   "id": "7cf895db",
   "metadata": {},
   "outputs": [
    {
     "name": "stdout",
     "output_type": "stream",
     "text": [
      "(61, 5)\n"
     ]
    },
    {
     "data": {
      "text/plain": [
       "[<matplotlib.lines.Line2D at 0x16b554e35b0>,\n",
       " <matplotlib.lines.Line2D at 0x16b554e3610>,\n",
       " <matplotlib.lines.Line2D at 0x16b554e3730>,\n",
       " <matplotlib.lines.Line2D at 0x16b554e3850>,\n",
       " <matplotlib.lines.Line2D at 0x16b554e3970>]"
      ]
     },
     "execution_count": 59,
     "metadata": {},
     "output_type": "execute_result"
    },
    {
     "data": {
      "image/png": "[encoded data removed]",
      "text/plain": [
       "<Figure size 432x288 with 1 Axes>"
      ]
     },
     "metadata": {
      "needs_background": "light"
     },
     "output_type": "display_data"
    }
   ],
   "source": [
    "# Test plots of highly variant cells.\n",
    "cell_idx = mean_sort_idxs[0]\n",
    "\n",
    "# Depths from each case.\n",
    "cell_depths = case_ar[cell_idx,:,:]\n",
    "print(cell_depths.shape)\n",
    "\n",
    "fig, ax = plt.subplots()\n",
    "ax.plot(cell_depths)"
   ]
  },
  {
   "cell_type": "code",
   "execution_count": 61,
   "id": "f7cd6a8f",
   "metadata": {},
   "outputs": [
    {
     "data": {
      "text/plain": [
       "<matplotlib.collections.PathCollection at 0x16b55595c10>"
      ]
     },
     "execution_count": 61,
     "metadata": {},
     "output_type": "execute_result"
    },
    {
     "data": {
      "image/png": "[encoded data removed]",
      "text/plain": [
       "<Figure size 432x288 with 1 Axes>"
      ]
     },
     "metadata": {
      "needs_background": "light"
     },
     "output_type": "display_data"
    }
   ],
   "source": [
    "# Get lat and lon from the sensitive cells.\n",
    "cell_lat_lon = lat_lon[mean_sort_idxs[:6],:]\n",
    "\n",
    "fig, ax = plt.subplots()\n",
    "ax.scatter(lat_lon[:,1], lat_lon[:,0], c='gray')\n",
    "ax.scatter(cell_lat_lon[:,1], cell_lat_lon[:,0], c='red')"
   ]
  },
  {
   "cell_type": "code",
   "execution_count": 62,
   "id": "7d021b57",
   "metadata": {},
   "outputs": [],
   "source": [
    "# Save a certain subset of the highly sensitive sensor locations.\n",
    "idx_subset = mean_sort_idxs[:6]\n",
    "subset_lat_lon = lat_lon[idx_subset,:]\n",
    "np.savetxt(sensor_savefp, subset_lat_lon, \n",
    "              delimiter = \",\")"
   ]
  },
  {
   "cell_type": "code",
   "execution_count": null,
   "id": "da4e1b01",
   "metadata": {},
   "outputs": [],
   "source": []
  }
 ],
 "metadata": {
  "kernelspec": {
   "display_name": "Python 3 (ipykernel)",
   "language": "python",
   "name": "python3"
  },
  "language_info": {
   "codemirror_mode": {
    "name": "ipython",
    "version": 3
   },
   "file_extension": ".py",
   "mimetype": "text/x-python",
   "name": "python",
   "nbconvert_exporter": "python",
   "pygments_lexer": "ipython3",
   "version": "3.9.13"
  }
 },
 "nbformat": 4,
 "nbformat_minor": 5
}
