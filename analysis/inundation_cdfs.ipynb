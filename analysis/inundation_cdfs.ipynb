{
 "cells": [
  {
   "cell_type": "code",
   "execution_count": null,
   "id": "4ec48d11",
   "metadata": {},
   "outputs": [],
   "source": [
    "# TITLE GOES HERE"
   ]
  },
  {
   "cell_type": "code",
   "execution_count": 3,
   "id": "7ef5cac0",
   "metadata": {},
   "outputs": [],
   "source": [
    "# Library imports.\n",
    "import numpy as np\n",
    "import h5py\n",
    "import os\n",
    "\n",
    "# Library imports.\n",
    "from rasopt.Utilities import utils"
   ]
  },
  {
   "cell_type": "code",
   "execution_count": 6,
   "id": "4196f35c",
   "metadata": {},
   "outputs": [],
   "source": [
    "# Plan file directory.\n",
    "plan_dir = r\"C:\\Users\\ayoun\\Box\\Research\\Flood_Sim_Materials\\BayesOpt_Paper\\Data\\Roughness_Output\"\n",
    "\n",
    "# Ground truth file name.\n",
    "gt_plan_fname = r\"Secchia_Panaro.p23_GT.hdf\"\n",
    "gt_plan_fp = os.path.join(plan_dir, gt_plan_fname)\n",
    "\n",
    "# Simulation file names.\n",
    "sim_fnames = [\n",
    "    r\"Secchia_Panaro.p23_2veg.hdf\"\n",
    "]\n",
    "sim_fps = [os.path.join(plan_dir, fname) for fname in sim_fnames]\n",
    "\n",
    "# Simulation file IDs.\n",
    "sim_ids = [\n",
    "    \"2veg\"\n",
    "]\n",
    "\n",
    "# Path to cell coordinates.\n",
    "cell_coord_path = 'Geometry/2D Flow Areas/Secchia_Panaro/Cells Center Coordinate'\n",
    "\n",
    "# Path to water depths.\n",
    "depth_path = ('Results/Unsteady/Output/Output Blocks/Base Output/Unsteady Time Series/'\n",
    "              '2D Flow Areas/Secchia_Panaro/Depth')"
   ]
  },
  {
   "cell_type": "code",
   "execution_count": 7,
   "id": "53d74974",
   "metadata": {},
   "outputs": [],
   "source": [
    "# Load the depth data.\n",
    "gt_depths = utils.extract_depths(gt_plan_fp, depth_path, cell_coord_path)\n",
    "\n",
    "sim_depths = {}\n",
    "for i, sim_fp in enumerate(sim_fps):\n",
    "    sim_depths[sim_ids[i]] = utils.extract_depths(sim_fp, depth_path, cell_coord_path)"
   ]
  },
  {
   "cell_type": "code",
   "execution_count": 8,
   "id": "732d4431",
   "metadata": {},
   "outputs": [],
   "source": [
    "# Only include the first N time steps.\n",
    "Nts = 849\n"
   ]
  },
  {
   "cell_type": "code",
   "execution_count": null,
   "id": "a93832f1",
   "metadata": {},
   "outputs": [],
   "source": [
    "# Remove cells that do not hit the critical threshold based on GT values.\n",
    "dcrit = 0.1\n"
   ]
  }
 ],
 "metadata": {
  "kernelspec": {
   "display_name": "Python 3 (ipykernel)",
   "language": "python",
   "name": "python3"
  },
  "language_info": {
   "codemirror_mode": {
    "name": "ipython",
    "version": 3
   },
   "file_extension": ".py",
   "mimetype": "text/x-python",
   "name": "python",
   "nbconvert_exporter": "python",
   "pygments_lexer": "ipython3",
   "version": "3.9.13"
  }
 },
 "nbformat": 4,
 "nbformat_minor": 5
}
