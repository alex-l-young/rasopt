{
 "cells": [
  {
   "cell_type": "code",
   "execution_count": 1,
   "id": "60506994",
   "metadata": {},
   "outputs": [
    {
     "name": "stdout",
     "output_type": "stream",
     "text": [
      "Could not import rascontrol library.\n"
     ]
    }
   ],
   "source": [
    "# Library imports.\n",
    "import matplotlib.pyplot as plt\n",
    "import numpy as np\n",
    "from scipy.io import savemat\n",
    "import os\n",
    "import rasterio\n",
    "\n",
    "# Local imports.\n",
    "from rasopt.Utilities import utils, land_cover_utils"
   ]
  },
  {
   "cell_type": "code",
   "execution_count": 2,
   "id": "b5172cd5",
   "metadata": {},
   "outputs": [],
   "source": [
    "# Plan files to compare.\n",
    "gt_plan_fp = r\"C:\\Users\\ay434\\Documents\\10_min_Runs\\Secchia_flood_2014_30min_Orig_GT\\Secchia_Panaro.p23.hdf\"\n",
    "sim_best_plan_fp = r\"C:\\Users\\ay434\\Box\\Research\\Flood_Sim_Materials\\BayesOpt_Paper\\Data\\Secchia_Panaro.p23_camp0.05_2veg_30min.hdf\"\n",
    "\n",
    "# HDF paths.\n",
    "# Cell coordinate path.\n",
    "cell_coord_path = 'Geometry/2D Flow Areas/Secchia_Panaro/Cells Center Coordinate'\n",
    "\n",
    "# Water depths path.\n",
    "depth_path = ('Results/Unsteady/Output/Output Blocks/Base Output/Unsteady Time Series/'\n",
    "              '2D Flow Areas/Secchia_Panaro/Depth')"
   ]
  },
  {
   "cell_type": "code",
   "execution_count": null,
   "id": "2ca44f58",
   "metadata": {},
   "outputs": [],
   "source": []
  }
 ],
 "metadata": {
  "kernelspec": {
   "display_name": "Python 3 (ipykernel)",
   "language": "python",
   "name": "python3"
  },
  "language_info": {
   "codemirror_mode": {
    "name": "ipython",
    "version": 3
   },
   "file_extension": ".py",
   "mimetype": "text/x-python",
   "name": "python",
   "nbconvert_exporter": "python",
   "pygments_lexer": "ipython3",
   "version": "3.9.5"
  }
 },
 "nbformat": 4,
 "nbformat_minor": 5
}
