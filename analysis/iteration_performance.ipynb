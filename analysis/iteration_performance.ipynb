{
 "cells": [
  {
   "cell_type": "code",
   "execution_count": 3,
   "id": "2cf0f13a",
   "metadata": {},
   "outputs": [],
   "source": [
    "# Botorch and Ax imports.\n",
    "from ax import json_load\n",
    "from ax.modelbridge.registry import Models\n",
    "from ax.models.torch.botorch_modular.surrogate import Surrogate\n",
    "from ax.core.observation import ObservationFeatures\n",
    "from botorch.models.gp_regression import SingleTaskGP\n",
    "from botorch.acquisition.monte_carlo import qNoisyExpectedImprovement\n",
    "from ax.service.utils.report_utils import exp_to_df\n",
    "\n",
    "# Other library imports.\n",
    "import matplotlib.pyplot as plt\n",
    "import numpy as np\n",
    "import scipy\n",
    "import os"
   ]
  },
  {
   "cell_type": "code",
   "execution_count": 44,
   "id": "265e7d41",
   "metadata": {},
   "outputs": [],
   "source": [
    "# Path to BoTorch experiments directory.\n",
    "exp_dir = r\"C:\\Users\\ay434\\Box\\Research\\Flood_Sim_Materials\\BayesOpt_Paper\\Data\\Roughness_Output\"\n",
    "\n",
    "# Path to figure save directory.\n",
    "save_dir = r\"C:\\Users\\ay434\\Box\\Research\\Flood_Sim_Materials\\BayesOpt_Paper\\Figures\\Roughness_Case_Study\"\n",
    "\n",
    "# Name of experiment.\n",
    "exp_name = \"BT_exp_c5smax_200iter.json\"\n",
    "\n",
    "# Load the experiment.\n",
    "exp_fp = os.path.join(exp_dir, exp_name)\n",
    "exp = json_load.load_experiment(exp_fp)\n",
    "\n",
    "# Extract parameters.\n",
    "pars = list(exp.parameters.values())\n",
    "\n",
    "# Experiment result.\n",
    "results_df = exp_to_df(exp)"
   ]
  },
  {
   "cell_type": "code",
   "execution_count": 49,
   "id": "3972b79f",
   "metadata": {},
   "outputs": [
    {
     "data": {
      "image/png": "[encoded data removed]",
      "text/plain": [
       "<Figure size 432x288 with 1 Axes>"
      ]
     },
     "metadata": {
      "needs_background": "light"
     },
     "output_type": "display_data"
    }
   ],
   "source": [
    "# Plot the performance over each iteration.\n",
    "best_func = []\n",
    "for i in range(results_df.shape[0]):\n",
    "    # Get the first i rows of the results.\n",
    "    sample_df = results_df.iloc[:i+1,:]\n",
    "    \n",
    "    # Maximum function value of the sample rows.\n",
    "    sort_sample_df = sample_df.sort_values(by='_run_with_loss', ascending=False)\n",
    "    sort_sample_df.reset_index(inplace=True)\n",
    "    best_func.append(sort_sample_df.loc[0, '_run_with_loss'] * -1)\n",
    "    \n",
    "iter_start = 5\n",
    "fig, ax = plt.subplots()\n",
    "ax.plot(list(range(iter_start, len(best_func))), best_func[iter_start:], 'b-')\n",
    "ax.set_xlabel('Iteration Number', fontsize=16)\n",
    "ax.set_ylabel('$\\overline{RMSE} \\ (m)$', fontsize=16)\n",
    "ax.tick_params(axis='x', labelsize=14)\n",
    "ax.tick_params(axis='y', labelsize=14)\n",
    "\n",
    "# Save the figure.\n",
    "save_fp = os.path.join(save_dir, os.path.splitext(exp_name)[0] + '_IterPlot.png')\n",
    "fig.savefig(save_fp, dpi=300)"
   ]
  },
  {
   "cell_type": "code",
   "execution_count": null,
   "id": "1bed9450",
   "metadata": {},
   "outputs": [],
   "source": []
  },
  {
   "cell_type": "code",
   "execution_count": null,
   "id": "1216e5b4",
   "metadata": {},
   "outputs": [],
   "source": []
  }
 ],
 "metadata": {
  "kernelspec": {
   "display_name": "flood_env",
   "language": "python",
   "name": "flood_env"
  },
  "language_info": {
   "codemirror_mode": {
    "name": "ipython",
    "version": 3
   },
   "file_extension": ".py",
   "mimetype": "text/x-python",
   "name": "python",
   "nbconvert_exporter": "python",
   "pygments_lexer": "ipython3",
   "version": "3.9.5"
  }
 },
 "nbformat": 4,
 "nbformat_minor": 5
}
