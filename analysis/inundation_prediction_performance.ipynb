{
 "cells": [
  {
   "cell_type": "code",
   "execution_count": 1,
   "id": "eb7227b6",
   "metadata": {},
   "outputs": [],
   "source": [
    "# Compare the skill of the model forecast using the depth data at the resolution of the DEM.\n",
    "\n",
    "# Library imports.\n",
    "import matplotlib.pyplot as plt\n",
    "import numpy as np\n",
    "from scipy.io import savemat\n",
    "import os\n",
    "import rasterio\n",
    "import geojson\n",
    "\n",
    "# Local imports.\n",
    "from rasopt.Utilities import utils, land_cover_utils"
   ]
  },
  {
   "cell_type": "code",
   "execution_count": 40,
   "id": "ac759492",
   "metadata": {},
   "outputs": [],
   "source": [
    "# Load in the files.\n",
    "# Directory to files. \n",
    "file_dir = r\"C:\\Users\\ay434\\Box\\Research\\Flood_Sim_Materials\\BayesOpt_Paper\\Data\\Roughness_Output\"\n",
    "\n",
    "# Ground truth.\n",
    "gt_fname = \"Secchia_Panaro.p23_GT.hdf\"\n",
    "gt_fp = os.path.join(file_dir, gt_fname)\n",
    "\n",
    "# Calibrated model.\n",
    "cal_fname = \"Secchia_Panaro.p23_c4s3.hdf\"\n",
    "cal_fp = os.path.join(file_dir, cal_fname)\n",
    "cal_id = os.path.splitext(cal_fname)[0].split('_')[-1]\n",
    "\n",
    "# HDF paths.\n",
    "# Cell coordinate path.\n",
    "cell_coord_path = 'Geometry/2D Flow Areas/Secchia_Panaro/Cells Center Coordinate'\n",
    "\n",
    "# Water depths path.\n",
    "depth_path = ('Results/Unsteady/Output/Output Blocks/Base Output/Unsteady Time Series/'\n",
    "              '2D Flow Areas/Secchia_Panaro/Depth')\n",
    "\n",
    "# Manning's n calibration table path.\n",
    "cal_table_path = \"Geometry/Land Cover (Manning's n)/Calibration Table\"\n",
    "\n",
    "# Cell facepoint index path.\n",
    "cell_facepoint_idx_path = 'Geometry/2D Flow Areas/Secchia_Panaro/Cells FacePoint Indexes'\n",
    "\n",
    "# Facepoint coordinate path.\n",
    "facepoint_coord_path = 'Geometry/2D Flow Areas/Secchia_Panaro/FacePoints Coordinate'"
   ]
  },
  {
   "cell_type": "code",
   "execution_count": 41,
   "id": "6bf10116",
   "metadata": {},
   "outputs": [],
   "source": [
    "# Extract ground truth depths.\n",
    "gt_depths = utils.extract_depths(gt_fp, depth_path, cell_coord_path)\n",
    "\n",
    "# Extract calibrated depths.\n",
    "cal_depths = utils.extract_depths(cal_fp, depth_path, cell_coord_path)\n",
    "\n",
    "# Number of cells and time steps.\n",
    "ncell, ncol = gt_depths.shape\n",
    "Nt = ncol - 2"
   ]
  },
  {
   "cell_type": "code",
   "execution_count": 42,
   "id": "a6b40485",
   "metadata": {},
   "outputs": [],
   "source": [
    "# Count the number of timesteps where the inundation prediction and truth did not match. \n",
    "inun_cut = 0.1\n",
    "gt_inun = np.zeros((1,ncell)) # Count how many time steps each cell is inundated.\n",
    "gt_and_notcal = np.zeros((1,ncell))\n",
    "notgt_and_cal = np.zeros((1,ncell))\n",
    "gt_and_cal = np.zeros((1,ncell))\n",
    "gt_eq_cal = np.zeros((1,ncell))\n",
    "for i in range(2,ncol):\n",
    "    # Depths from a single time step.\n",
    "    Dgt = gt_depths.iloc[:,i].to_numpy()\n",
    "    Dcal = cal_depths.iloc[:,i].to_numpy()\n",
    "    \n",
    "    # Set depths above inun_cut to 1 and below inun_cut to 0.\n",
    "    Dgt[Dgt >= inun_cut] = 1\n",
    "    Dgt[Dgt < inun_cut] = 0\n",
    "    gt_inun += Dgt\n",
    "    gt_bool = np.array(Dgt, dtype=bool)\n",
    "    Dcal[Dcal >= inun_cut] = 1\n",
    "    Dcal[Dcal < inun_cut] = 0\n",
    "    cal_bool = np.array(Dcal, dtype=bool)\n",
    "    \n",
    "    # Compute logical values.\n",
    "    gt_and_cal += np.logical_and(gt_bool, cal_bool).astype(float)\n",
    "    gt_and_notcal += np.logical_and(gt_bool, ~cal_bool).astype(float)\n",
    "    notgt_and_cal += np.logical_and(~gt_bool, cal_bool).astype(float)\n",
    "    gt_eq_cal += gt_bool == cal_bool\n",
    "    \n",
    "# Normalize the gt_eq_cal by the number of time steps.\n",
    "gt_eq_cal /= Nt"
   ]
  },
  {
   "cell_type": "code",
   "execution_count": 43,
   "id": "d73cf2b3",
   "metadata": {
    "scrolled": true
   },
   "outputs": [
    {
     "name": "stdout",
     "output_type": "stream",
     "text": [
      "C:\\Users\\ay434\\Box\\Research\\Flood_Sim_Materials\\BayesOpt_Paper\\Data\\Roughness_Output\\Secchia_Panaro.p23_GT.hdf\n",
      "gdal_rasterize -at -l tmp_gjson -a Depth -tr 20 20 -a_nodata -999.0 -te 652569.026634 4945866.106266 682199.040362 4970716.987691 -ot Float32 -of GTiff C:\\Users\\ay434\\Box\\Research\\Flood_Sim_Materials\\BayesOpt_Paper\\Data\\Roughness_Output\\Logical_Inundation_Rasters\\tmp_gjson.geojson C:\\Users\\ay434\\Box\\Research\\Flood_Sim_Materials\\BayesOpt_Paper\\Data\\Roughness_Output\\Logical_Inundation_Rasters\\gt_eq_cal_c4s3.tif\n"
     ]
    },
    {
     "data": {
      "text/plain": [
       "(array([[-999., -999., -999., ..., -999., -999., -999.],\n",
       "        [-999., -999., -999., ..., -999., -999., -999.],\n",
       "        [-999., -999., -999., ..., -999., -999., -999.],\n",
       "        ...,\n",
       "        [-999., -999., -999., ..., -999., -999., -999.],\n",
       "        [-999., -999., -999., ..., -999., -999., -999.],\n",
       "        [-999., -999., -999., ..., -999., -999., -999.]], dtype=float32),\n",
       " 'C:\\\\Users\\\\ay434\\\\Box\\\\Research\\\\Flood_Sim_Materials\\\\BayesOpt_Paper\\\\Data\\\\Roughness_Output\\\\Logical_Inundation_Rasters\\\\gt_eq_cal_c4s3.tif')"
      ]
     },
     "execution_count": 43,
     "metadata": {},
     "output_type": "execute_result"
    }
   ],
   "source": [
    "# Create depth geojson for the logical arrays.\n",
    "# gt_and_cal_gjson = utils.depth_geojson(gt_fp, cell_facepoint_idx_path, facepoint_coord_path, \n",
    "#                                      depth_path, cell_coord_path, depths=gt_and_cal[0])\n",
    "# gt_and_notcal_gjson = utils.depth_geojson(gt_fp, cell_facepoint_idx_path, facepoint_coord_path, \n",
    "#                                      depth_path, cell_coord_path, depths=gt_and_notcal[0])\n",
    "# notgt_and_cal_gjson = utils.depth_geojson(gt_fp, cell_facepoint_idx_path, facepoint_coord_path, \n",
    "#                                      depth_path, cell_coord_path, depths=notgt_and_cal[0])\n",
    "gt_eq_cal_gjson = utils.depth_geojson(gt_fp, cell_facepoint_idx_path, facepoint_coord_path, \n",
    "                                     depth_path, cell_coord_path, depths=gt_eq_cal[0])\n",
    "\n",
    "# Save geojsons as a rasters.\n",
    "save_dir = r\"C:\\Users\\ay434\\Box\\Research\\Flood_Sim_Materials\\BayesOpt_Paper\\Data\\Roughness_Output\\Logical_Inundation_Rasters\"\n",
    "property_name = \"Depth\"\n",
    "cell_width_X = 20\n",
    "cell_width_Y = 20\n",
    "\n",
    "# # GT and Cal\n",
    "# raster_fname = f\"gt_and_cal_{cal_id}.tif\"\n",
    "# utils.rasterize_geojson(gt_and_cal_gjson, property_name, save_dir, raster_fname, cell_width_X, cell_width_Y)\n",
    "\n",
    "# # GT and Not Cal\n",
    "# raster_fname = f\"gt_and_notcal_{cal_id}.tif\"\n",
    "# utils.rasterize_geojson(gt_and_notcal_gjson, property_name, save_dir, raster_fname, cell_width_X, cell_width_Y)\n",
    "\n",
    "# # Not GT and Cal\n",
    "# raster_fname = f\"notgt_and_cal_{cal_id}.tif\"\n",
    "# utils.rasterize_geojson(notgt_and_cal_gjson, property_name, save_dir, raster_fname, cell_width_X, cell_width_Y)\n",
    "\n",
    "# GT equal Cal\n",
    "raster_fname = f\"gt_eq_cal_{cal_id}.tif\"\n",
    "utils.rasterize_geojson(gt_eq_cal_gjson, property_name, save_dir, raster_fname, cell_width_X, cell_width_Y)"
   ]
  },
  {
   "cell_type": "code",
   "execution_count": null,
   "id": "e1146953",
   "metadata": {},
   "outputs": [],
   "source": []
  }
 ],
 "metadata": {
  "kernelspec": {
   "display_name": "rasopt-env",
   "language": "python",
   "name": "rasopt-env"
  },
  "language_info": {
   "codemirror_mode": {
    "name": "ipython",
    "version": 3
   },
   "file_extension": ".py",
   "mimetype": "text/x-python",
   "name": "python",
   "nbconvert_exporter": "python",
   "pygments_lexer": "ipython3",
   "version": "3.9.5"
  }
 },
 "nbformat": 4,
 "nbformat_minor": 5
}
